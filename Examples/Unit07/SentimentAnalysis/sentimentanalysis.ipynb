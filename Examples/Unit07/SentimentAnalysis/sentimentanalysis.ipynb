{
 "cells": [
  {
   "cell_type": "markdown",
   "metadata": {},
   "source": [
    "# Natural Language Processing - Sentiment Analysis\n",
    "An example in a few of the steps of NLP. Specifically focused on Sentiment Analysis.\n",
    "\n",
    "We will be working with a set of 100,000 Amazon reviews."
   ]
  },
  {
   "cell_type": "markdown",
   "metadata": {},
   "source": [
    "pip install ipykernel nltk pandas seaborn"
   ]
  },
  {
   "cell_type": "markdown",
   "metadata": {},
   "source": [
    "## 1. Import Libraries"
   ]
  },
  {
   "cell_type": "code",
   "execution_count": 1,
   "metadata": {},
   "outputs": [],
   "source": [
    "import pandas as pd\n",
    "import nltk\n",
    "from nltk.probability import FreqDist\n",
    "from nltk.stem import LancasterStemmer\n",
    "from nltk.stem import WordNetLemmatizer\n",
    "from nltk.sentiment import SentimentIntensityAnalyzer\n",
    "import matplotlib.pyplot as plt\n",
    "import seaborn as sns"
   ]
  },
  {
   "cell_type": "code",
   "execution_count": 2,
   "metadata": {},
   "outputs": [
    {
     "name": "stderr",
     "output_type": "stream",
     "text": [
      "[nltk_data] Downloading package punkt to /Users/thinkalex/nltk_data...\n",
      "[nltk_data]   Package punkt is already up-to-date!\n",
      "[nltk_data] Downloading package averaged_perceptron_tagger to\n",
      "[nltk_data]     /Users/thinkalex/nltk_data...\n",
      "[nltk_data]   Package averaged_perceptron_tagger is already up-to-\n",
      "[nltk_data]       date!\n",
      "[nltk_data] Downloading package vader_lexicon to\n",
      "[nltk_data]     /Users/thinkalex/nltk_data...\n",
      "[nltk_data]   Package vader_lexicon is already up-to-date!\n"
     ]
    },
    {
     "data": {
      "text/plain": [
       "True"
      ]
     },
     "execution_count": 2,
     "metadata": {},
     "output_type": "execute_result"
    }
   ],
   "source": [
    "nltk.download('punkt')\n",
    "nltk.download('averaged_perceptron_tagger')\n",
    "nltk.download('vader_lexicon')"
   ]
  },
  {
   "cell_type": "markdown",
   "metadata": {},
   "source": [
    "## 2. Data Loading and Understanding"
   ]
  },
  {
   "cell_type": "code",
   "execution_count": 3,
   "metadata": {},
   "outputs": [],
   "source": [
    "df = pd.read_csv(\"data/reviews.csv\")"
   ]
  },
  {
   "cell_type": "code",
   "execution_count": 4,
   "metadata": {},
   "outputs": [
    {
     "data": {
      "text/html": [
       "<div>\n",
       "<style scoped>\n",
       "    .dataframe tbody tr th:only-of-type {\n",
       "        vertical-align: middle;\n",
       "    }\n",
       "\n",
       "    .dataframe tbody tr th {\n",
       "        vertical-align: top;\n",
       "    }\n",
       "\n",
       "    .dataframe thead th {\n",
       "        text-align: right;\n",
       "    }\n",
       "</style>\n",
       "<table border=\"1\" class=\"dataframe\">\n",
       "  <thead>\n",
       "    <tr style=\"text-align: right;\">\n",
       "      <th></th>\n",
       "      <th>Id</th>\n",
       "      <th>ProductId</th>\n",
       "      <th>UserId</th>\n",
       "      <th>ProfileName</th>\n",
       "      <th>HelpfulnessNumerator</th>\n",
       "      <th>HelpfulnessDenominator</th>\n",
       "      <th>Score</th>\n",
       "      <th>Time</th>\n",
       "      <th>Summary</th>\n",
       "      <th>Text</th>\n",
       "    </tr>\n",
       "  </thead>\n",
       "  <tbody>\n",
       "    <tr>\n",
       "      <th>0</th>\n",
       "      <td>238216</td>\n",
       "      <td>B002JVPFZ8</td>\n",
       "      <td>A1B563ESLJ4EAU</td>\n",
       "      <td>Matthew Carney</td>\n",
       "      <td>2</td>\n",
       "      <td>2</td>\n",
       "      <td>5</td>\n",
       "      <td>1258416000</td>\n",
       "      <td>love 'em!</td>\n",
       "      <td>Someone gave me half a pack several years ago....</td>\n",
       "    </tr>\n",
       "    <tr>\n",
       "      <th>1</th>\n",
       "      <td>1392</td>\n",
       "      <td>B00068PCTU</td>\n",
       "      <td>A1WVOM1UQU9ZN0</td>\n",
       "      <td>carola whitlow</td>\n",
       "      <td>0</td>\n",
       "      <td>0</td>\n",
       "      <td>5</td>\n",
       "      <td>1340496000</td>\n",
       "      <td>The World's Best Sweetener</td>\n",
       "      <td>Stevia is pretty much the only natural zero-ca...</td>\n",
       "    </tr>\n",
       "    <tr>\n",
       "      <th>2</th>\n",
       "      <td>495917</td>\n",
       "      <td>B004UBCJ5Y</td>\n",
       "      <td>A1PDFBS64JCPQC</td>\n",
       "      <td>AC</td>\n",
       "      <td>0</td>\n",
       "      <td>1</td>\n",
       "      <td>1</td>\n",
       "      <td>1334620800</td>\n",
       "      <td>Taste Like Movie Popcorn</td>\n",
       "      <td>Thinking these would be good for an upcoming b...</td>\n",
       "    </tr>\n",
       "    <tr>\n",
       "      <th>3</th>\n",
       "      <td>449823</td>\n",
       "      <td>B000E8PZNA</td>\n",
       "      <td>A2FX2RPCHQ1P41</td>\n",
       "      <td>M. Coggin \"Clean Life\"</td>\n",
       "      <td>6</td>\n",
       "      <td>6</td>\n",
       "      <td>5</td>\n",
       "      <td>1194912000</td>\n",
       "      <td>Excellent tea with different, full flavor</td>\n",
       "      <td>The six pack is a good value, really no more t...</td>\n",
       "    </tr>\n",
       "    <tr>\n",
       "      <th>4</th>\n",
       "      <td>530212</td>\n",
       "      <td>B003NC749C</td>\n",
       "      <td>A2GCRABUU8351C</td>\n",
       "      <td>MommaG</td>\n",
       "      <td>1</td>\n",
       "      <td>2</td>\n",
       "      <td>2</td>\n",
       "      <td>1285632000</td>\n",
       "      <td>Too bland.</td>\n",
       "      <td>Flavor is too subtle.  I found myself putting ...</td>\n",
       "    </tr>\n",
       "    <tr>\n",
       "      <th>5</th>\n",
       "      <td>378055</td>\n",
       "      <td>B002GJ9JY6</td>\n",
       "      <td>A1I6O6YH6TFVID</td>\n",
       "      <td>Alison</td>\n",
       "      <td>2</td>\n",
       "      <td>2</td>\n",
       "      <td>3</td>\n",
       "      <td>1321833600</td>\n",
       "      <td>Powdered peanut butter</td>\n",
       "      <td>PB2 turned out to be a pretty good alternative...</td>\n",
       "    </tr>\n",
       "    <tr>\n",
       "      <th>6</th>\n",
       "      <td>305658</td>\n",
       "      <td>B001ELL4E0</td>\n",
       "      <td>A2T0V99GLGXWCM</td>\n",
       "      <td>Ghost(Ghost(M))</td>\n",
       "      <td>0</td>\n",
       "      <td>0</td>\n",
       "      <td>5</td>\n",
       "      <td>1291248000</td>\n",
       "      <td>Good product</td>\n",
       "      <td>That's my first attempt try cut oats (rather t...</td>\n",
       "    </tr>\n",
       "    <tr>\n",
       "      <th>7</th>\n",
       "      <td>331143</td>\n",
       "      <td>B001THPU9E</td>\n",
       "      <td>AJQQABYMHY6NV</td>\n",
       "      <td>P. LaRue \"drpam24\"</td>\n",
       "      <td>0</td>\n",
       "      <td>0</td>\n",
       "      <td>4</td>\n",
       "      <td>1256688000</td>\n",
       "      <td>tasty</td>\n",
       "      <td>Good flavor alone, I usually mix w/ arnold pal...</td>\n",
       "    </tr>\n",
       "    <tr>\n",
       "      <th>8</th>\n",
       "      <td>48770</td>\n",
       "      <td>B005Y1A8FW</td>\n",
       "      <td>A33OA3JH3YYPW5</td>\n",
       "      <td>Dara Shirokawa</td>\n",
       "      <td>6</td>\n",
       "      <td>6</td>\n",
       "      <td>5</td>\n",
       "      <td>1257897600</td>\n",
       "      <td>Happy With Product</td>\n",
       "      <td>This product is sturdy and well made.  The por...</td>\n",
       "    </tr>\n",
       "    <tr>\n",
       "      <th>9</th>\n",
       "      <td>491124</td>\n",
       "      <td>B00196498I</td>\n",
       "      <td>A1E2IHU91M6WJJ</td>\n",
       "      <td>optimizeyourvideo</td>\n",
       "      <td>0</td>\n",
       "      <td>0</td>\n",
       "      <td>5</td>\n",
       "      <td>1350172800</td>\n",
       "      <td>Great buy even cheaper on subscription</td>\n",
       "      <td>I lost nearly 20lbs by adding 4 Tbsp to my oat...</td>\n",
       "    </tr>\n",
       "  </tbody>\n",
       "</table>\n",
       "</div>"
      ],
      "text/plain": [
       "       Id   ProductId          UserId             ProfileName  \\\n",
       "0  238216  B002JVPFZ8  A1B563ESLJ4EAU          Matthew Carney   \n",
       "1    1392  B00068PCTU  A1WVOM1UQU9ZN0          carola whitlow   \n",
       "2  495917  B004UBCJ5Y  A1PDFBS64JCPQC                      AC   \n",
       "3  449823  B000E8PZNA  A2FX2RPCHQ1P41  M. Coggin \"Clean Life\"   \n",
       "4  530212  B003NC749C  A2GCRABUU8351C                  MommaG   \n",
       "5  378055  B002GJ9JY6  A1I6O6YH6TFVID                  Alison   \n",
       "6  305658  B001ELL4E0  A2T0V99GLGXWCM         Ghost(Ghost(M))   \n",
       "7  331143  B001THPU9E   AJQQABYMHY6NV      P. LaRue \"drpam24\"   \n",
       "8   48770  B005Y1A8FW  A33OA3JH3YYPW5          Dara Shirokawa   \n",
       "9  491124  B00196498I  A1E2IHU91M6WJJ       optimizeyourvideo   \n",
       "\n",
       "   HelpfulnessNumerator  HelpfulnessDenominator  Score        Time  \\\n",
       "0                     2                       2      5  1258416000   \n",
       "1                     0                       0      5  1340496000   \n",
       "2                     0                       1      1  1334620800   \n",
       "3                     6                       6      5  1194912000   \n",
       "4                     1                       2      2  1285632000   \n",
       "5                     2                       2      3  1321833600   \n",
       "6                     0                       0      5  1291248000   \n",
       "7                     0                       0      4  1256688000   \n",
       "8                     6                       6      5  1257897600   \n",
       "9                     0                       0      5  1350172800   \n",
       "\n",
       "                                     Summary  \\\n",
       "0                                  love 'em!   \n",
       "1                 The World's Best Sweetener   \n",
       "2                   Taste Like Movie Popcorn   \n",
       "3  Excellent tea with different, full flavor   \n",
       "4                                 Too bland.   \n",
       "5                     Powdered peanut butter   \n",
       "6                               Good product   \n",
       "7                                      tasty   \n",
       "8                         Happy With Product   \n",
       "9     Great buy even cheaper on subscription   \n",
       "\n",
       "                                                Text  \n",
       "0  Someone gave me half a pack several years ago....  \n",
       "1  Stevia is pretty much the only natural zero-ca...  \n",
       "2  Thinking these would be good for an upcoming b...  \n",
       "3  The six pack is a good value, really no more t...  \n",
       "4  Flavor is too subtle.  I found myself putting ...  \n",
       "5  PB2 turned out to be a pretty good alternative...  \n",
       "6  That's my first attempt try cut oats (rather t...  \n",
       "7  Good flavor alone, I usually mix w/ arnold pal...  \n",
       "8  This product is sturdy and well made.  The por...  \n",
       "9  I lost nearly 20lbs by adding 4 Tbsp to my oat...  "
      ]
     },
     "execution_count": 4,
     "metadata": {},
     "output_type": "execute_result"
    }
   ],
   "source": [
    "df.columns\n",
    "df.shape\n",
    "df.head(n=10)"
   ]
  },
  {
   "cell_type": "markdown",
   "metadata": {},
   "source": [
    "## 3. Minimal Exploratory Data Analysis"
   ]
  },
  {
   "cell_type": "code",
   "execution_count": 5,
   "metadata": {},
   "outputs": [
    {
     "data": {
      "text/plain": [
       "31761"
      ]
     },
     "execution_count": 5,
     "metadata": {},
     "output_type": "execute_result"
    }
   ],
   "source": [
    "# How many unique products are there?\n",
    "len(df[\"ProductId\"].unique())"
   ]
  },
  {
   "cell_type": "code",
   "execution_count": 6,
   "metadata": {},
   "outputs": [
    {
     "data": {
      "image/png": "[encoded data removed]",
      "text/plain": [
       "<Figure size 558.875x500 with 1 Axes>"
      ]
     },
     "metadata": {},
     "output_type": "display_data"
    }
   ],
   "source": [
    "# How many of each rating there are\n",
    "ax = sns.catplot(data=df, x='Score', kind=\"count\", hue='Score')\n",
    "plt.show()"
   ]
  },
  {
   "cell_type": "markdown",
   "metadata": {},
   "source": [
    "## 4. Example Text Pre-Processing"
   ]
  },
  {
   "cell_type": "markdown",
   "metadata": {},
   "source": [
    "### Tokenization\n",
    "Breaking the text into sentences, phrases, words, and symbols."
   ]
  },
  {
   "cell_type": "code",
   "execution_count": 7,
   "metadata": {},
   "outputs": [
    {
     "data": {
      "text/plain": [
       "['I',\n",
       " \"'ve\",\n",
       " 'been',\n",
       " 'giving',\n",
       " 'my',\n",
       " 'daughter',\n",
       " 'Gerber',\n",
       " 'fruits',\n",
       " ',',\n",
       " 'veggies']"
      ]
     },
     "execution_count": 7,
     "metadata": {},
     "output_type": "execute_result"
    }
   ],
   "source": [
    "# Get a random review\n",
    "review = df[\"Text\"][35]\n",
    "review\n",
    "\n",
    "# Tokenize using nltk\n",
    "tokens = nltk.word_tokenize(review)\n",
    "\n",
    "# Display first 10 words\n",
    "tokens[:10]"
   ]
  },
  {
   "cell_type": "markdown",
   "metadata": {},
   "source": [
    "### Frequency Distribution"
   ]
  },
  {
   "cell_type": "code",
   "execution_count": 8,
   "metadata": {},
   "outputs": [
    {
     "data": {
      "text/plain": [
       "[(',', 10),\n",
       " ('and', 10),\n",
       " ('she', 7),\n",
       " ('to', 5),\n",
       " ('fruits', 4),\n",
       " ('.', 4),\n",
       " ('I', 3),\n",
       " ('Gerber', 3),\n",
       " ('veggies', 3),\n",
       " (\"'s\", 3)]"
      ]
     },
     "execution_count": 8,
     "metadata": {},
     "output_type": "execute_result"
    }
   ],
   "source": [
    "fdist = FreqDist(tokens)\n",
    "fdist.most_common(10)"
   ]
  },
  {
   "cell_type": "markdown",
   "metadata": {},
   "source": [
    "### Stemming\n",
    "Cutting off the ends of the words to get some type of root"
   ]
  },
  {
   "cell_type": "code",
   "execution_count": 9,
   "metadata": {},
   "outputs": [
    {
     "name": "stdout",
     "output_type": "stream",
     "text": [
      "fridge:  fridg\n",
      "fridges:  fridg\n"
     ]
    }
   ],
   "source": [
    "# Stemming - cuts off the ends of a word\n",
    "lst = LancasterStemmer()\n",
    "print(\"fridge: \", lst.stem(\"fridge\"))\n",
    "print(\"fridges: \", lst.stem(\"fridges\"))"
   ]
  },
  {
   "cell_type": "markdown",
   "metadata": {},
   "source": [
    "### Lemmatization\n",
    "Determining the roots of words"
   ]
  },
  {
   "cell_type": "code",
   "execution_count": 10,
   "metadata": {},
   "outputs": [
    {
     "name": "stdout",
     "output_type": "stream",
     "text": [
      "better: good\n",
      "alumni: alumnus\n"
     ]
    }
   ],
   "source": [
    "# Lemmatizing - helps find the root of a word\n",
    "lmt = WordNetLemmatizer()\n",
    "\n",
    "print(\"better:\", lmt.lemmatize(\"better\", pos=\"a\"))\n",
    "print(\"alumni:\", lmt.lemmatize(\"alumni\", pos=\"n\"))"
   ]
  },
  {
   "cell_type": "markdown",
   "metadata": {},
   "source": [
    "### Part of Speech Tagging"
   ]
  },
  {
   "cell_type": "code",
   "execution_count": 11,
   "metadata": {},
   "outputs": [
    {
     "data": {
      "text/plain": [
       "[('I', 'PRP'),\n",
       " (\"'ve\", 'VBP'),\n",
       " ('been', 'VBN'),\n",
       " ('giving', 'VBG'),\n",
       " ('my', 'PRP$'),\n",
       " ('daughter', 'NN'),\n",
       " ('Gerber', 'NNP'),\n",
       " ('fruits', 'NNS'),\n",
       " (',', ','),\n",
       " ('veggies', 'NNS')]"
      ]
     },
     "execution_count": 11,
     "metadata": {},
     "output_type": "execute_result"
    }
   ],
   "source": [
    "tagged = nltk.pos_tag(tokens)\n",
    "\n",
    "# Display the first 10\n",
    "tagged[:10]"
   ]
  },
  {
   "cell_type": "markdown",
   "metadata": {},
   "source": [
    "## 5. Sentiment Analysis"
   ]
  },
  {
   "cell_type": "code",
   "execution_count": 12,
   "metadata": {},
   "outputs": [],
   "source": [
    "# Sentiment Analysis\n",
    "sia = SentimentIntensityAnalyzer()"
   ]
  },
  {
   "cell_type": "code",
   "execution_count": 13,
   "metadata": {},
   "outputs": [
    {
     "data": {
      "text/plain": [
       "{'neg': 0.0, 'neu': 0.318, 'pos': 0.682, 'compound': 0.6468}"
      ]
     },
     "execution_count": 13,
     "metadata": {},
     "output_type": "execute_result"
    }
   ],
   "source": [
    "sia.polarity_scores(\"I am extremely happy!\")"
   ]
  },
  {
   "cell_type": "code",
   "execution_count": 14,
   "metadata": {},
   "outputs": [],
   "source": [
    "# Get just a 100 reviews to make it simple\n",
    "df1 = df.sample(100)"
   ]
  },
  {
   "cell_type": "code",
   "execution_count": 20,
   "metadata": {},
   "outputs": [],
   "source": [
    "# Return the sentiment score of each review\n",
    "def get_polarity_scores(review):\n",
    "    scores = sia.polarity_scores(review)\n",
    "    return scores['neg'], scores['pos'], scores['neu'], scores['compound']\n",
    "\n",
    "# Apply polarity scoring function and save scores into separate columns\n",
    "df1[['Negative', 'Positive', 'Neutral', 'Compound']] = df1['Text'].apply(lambda x: pd.Series(get_polarity_scores(x)))"
   ]
  },
  {
   "cell_type": "code",
   "execution_count": 21,
   "metadata": {},
   "outputs": [
    {
     "data": {
      "text/html": [
       "<div>\n",
       "<style scoped>\n",
       "    .dataframe tbody tr th:only-of-type {\n",
       "        vertical-align: middle;\n",
       "    }\n",
       "\n",
       "    .dataframe tbody tr th {\n",
       "        vertical-align: top;\n",
       "    }\n",
       "\n",
       "    .dataframe thead th {\n",
       "        text-align: right;\n",
       "    }\n",
       "</style>\n",
       "<table border=\"1\" class=\"dataframe\">\n",
       "  <thead>\n",
       "    <tr style=\"text-align: right;\">\n",
       "      <th></th>\n",
       "      <th>Id</th>\n",
       "      <th>ProductId</th>\n",
       "      <th>UserId</th>\n",
       "      <th>ProfileName</th>\n",
       "      <th>HelpfulnessNumerator</th>\n",
       "      <th>HelpfulnessDenominator</th>\n",
       "      <th>Score</th>\n",
       "      <th>Time</th>\n",
       "      <th>Summary</th>\n",
       "      <th>Text</th>\n",
       "      <th>Negative</th>\n",
       "      <th>Positive</th>\n",
       "      <th>Neutral</th>\n",
       "      <th>Compound</th>\n",
       "    </tr>\n",
       "  </thead>\n",
       "  <tbody>\n",
       "    <tr>\n",
       "      <th>20759</th>\n",
       "      <td>13609</td>\n",
       "      <td>B001E5E33A</td>\n",
       "      <td>A17TASZJT6Y39D</td>\n",
       "      <td>Mr. August \"Literature lover\"</td>\n",
       "      <td>0</td>\n",
       "      <td>0</td>\n",
       "      <td>5</td>\n",
       "      <td>1345593600</td>\n",
       "      <td>Decaf Tea Choice</td>\n",
       "      <td>A distinctive decaf tea is hard to find.  I wa...</td>\n",
       "      <td>0.234</td>\n",
       "      <td>0.062</td>\n",
       "      <td>0.704</td>\n",
       "      <td>-0.9143</td>\n",
       "    </tr>\n",
       "    <tr>\n",
       "      <th>3708</th>\n",
       "      <td>149048</td>\n",
       "      <td>B004Q3LBTG</td>\n",
       "      <td>A2FC9SA2OW855O</td>\n",
       "      <td>Harsha</td>\n",
       "      <td>1</td>\n",
       "      <td>1</td>\n",
       "      <td>5</td>\n",
       "      <td>1315353600</td>\n",
       "      <td>Making baby food is a breeze</td>\n",
       "      <td>I have had this product for a few weeks now. I...</td>\n",
       "      <td>0.000</td>\n",
       "      <td>0.228</td>\n",
       "      <td>0.772</td>\n",
       "      <td>0.8122</td>\n",
       "    </tr>\n",
       "    <tr>\n",
       "      <th>76491</th>\n",
       "      <td>539946</td>\n",
       "      <td>B000V17MJA</td>\n",
       "      <td>A3FX8CJUZL6JWJ</td>\n",
       "      <td>Napleskitty \"napleskitty\"</td>\n",
       "      <td>1</td>\n",
       "      <td>1</td>\n",
       "      <td>5</td>\n",
       "      <td>1322524800</td>\n",
       "      <td>best energy drink ever</td>\n",
       "      <td>It has a very good taste and gives you energy ...</td>\n",
       "      <td>0.108</td>\n",
       "      <td>0.221</td>\n",
       "      <td>0.671</td>\n",
       "      <td>0.8232</td>\n",
       "    </tr>\n",
       "    <tr>\n",
       "      <th>49261</th>\n",
       "      <td>430003</td>\n",
       "      <td>B000RO14IQ</td>\n",
       "      <td>AC985IRTXGTE3</td>\n",
       "      <td>PippaM</td>\n",
       "      <td>0</td>\n",
       "      <td>0</td>\n",
       "      <td>4</td>\n",
       "      <td>1319932800</td>\n",
       "      <td>Good flavor</td>\n",
       "      <td>This flavor is really yummy. It's better to ea...</td>\n",
       "      <td>0.000</td>\n",
       "      <td>0.265</td>\n",
       "      <td>0.735</td>\n",
       "      <td>0.7818</td>\n",
       "    </tr>\n",
       "    <tr>\n",
       "      <th>82097</th>\n",
       "      <td>409960</td>\n",
       "      <td>B004AWTR6M</td>\n",
       "      <td>A3U7Q41SJ4PWI</td>\n",
       "      <td>E. Maddox</td>\n",
       "      <td>0</td>\n",
       "      <td>0</td>\n",
       "      <td>5</td>\n",
       "      <td>1297382400</td>\n",
       "      <td>A great treat to drink</td>\n",
       "      <td>Absolutely delightful.  I love it.  Bought fou...</td>\n",
       "      <td>0.035</td>\n",
       "      <td>0.375</td>\n",
       "      <td>0.590</td>\n",
       "      <td>0.9610</td>\n",
       "    </tr>\n",
       "  </tbody>\n",
       "</table>\n",
       "</div>"
      ],
      "text/plain": [
       "           Id   ProductId          UserId                    ProfileName  \\\n",
       "20759   13609  B001E5E33A  A17TASZJT6Y39D  Mr. August \"Literature lover\"   \n",
       "3708   149048  B004Q3LBTG  A2FC9SA2OW855O                         Harsha   \n",
       "76491  539946  B000V17MJA  A3FX8CJUZL6JWJ      Napleskitty \"napleskitty\"   \n",
       "49261  430003  B000RO14IQ   AC985IRTXGTE3                         PippaM   \n",
       "82097  409960  B004AWTR6M   A3U7Q41SJ4PWI                      E. Maddox   \n",
       "\n",
       "       HelpfulnessNumerator  HelpfulnessDenominator  Score        Time  \\\n",
       "20759                     0                       0      5  1345593600   \n",
       "3708                      1                       1      5  1315353600   \n",
       "76491                     1                       1      5  1322524800   \n",
       "49261                     0                       0      4  1319932800   \n",
       "82097                     0                       0      5  1297382400   \n",
       "\n",
       "                            Summary  \\\n",
       "20759              Decaf Tea Choice   \n",
       "3708   Making baby food is a breeze   \n",
       "76491        best energy drink ever   \n",
       "49261                   Good flavor   \n",
       "82097        A great treat to drink   \n",
       "\n",
       "                                                    Text  Negative  Positive  \\\n",
       "20759  A distinctive decaf tea is hard to find.  I wa...     0.234     0.062   \n",
       "3708   I have had this product for a few weeks now. I...     0.000     0.228   \n",
       "76491  It has a very good taste and gives you energy ...     0.108     0.221   \n",
       "49261  This flavor is really yummy. It's better to ea...     0.000     0.265   \n",
       "82097  Absolutely delightful.  I love it.  Bought fou...     0.035     0.375   \n",
       "\n",
       "       Neutral  Compound  \n",
       "20759    0.704   -0.9143  \n",
       "3708     0.772    0.8122  \n",
       "76491    0.671    0.8232  \n",
       "49261    0.735    0.7818  \n",
       "82097    0.590    0.9610  "
      ]
     },
     "execution_count": 21,
     "metadata": {},
     "output_type": "execute_result"
    }
   ],
   "source": [
    "df1.head()"
   ]
  },
  {
   "cell_type": "markdown",
   "metadata": {},
   "source": [
    "## 6. Visualization"
   ]
  },
  {
   "cell_type": "code",
   "execution_count": 22,
   "metadata": {},
   "outputs": [
    {
     "data": {
      "image/png": "[encoded data removed]",
      "text/plain": [
       "<Figure size 640x480 with 1 Axes>"
      ]
     },
     "metadata": {},
     "output_type": "display_data"
    }
   ],
   "source": [
    "# Graph it\n",
    "ax = sns.barplot(data=df1, x='Score', y='Compound')\n",
    "ax.set_title('Compound Score by Amazon Star Review')\n",
    "plt.show()"
   ]
  }
 ],
 "metadata": {
  "kernelspec": {
   "display_name": ".venv",
   "language": "python",
   "name": "python3"
  },
  "language_info": {
   "codemirror_mode": {
    "name": "ipython",
    "version": 3
   },
   "file_extension": ".py",
   "mimetype": "text/x-python",
   "name": "python",
   "nbconvert_exporter": "python",
   "pygments_lexer": "ipython3",
   "version": "3.12.2"
  }
 },
 "nbformat": 4,
 "nbformat_minor": 2
}
