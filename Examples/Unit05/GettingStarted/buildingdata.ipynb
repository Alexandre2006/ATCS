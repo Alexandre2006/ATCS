{
 "cells": [
  {
   "cell_type": "markdown",
   "metadata": {},
   "source": [
    "# Building Datasets\n",
    "Goal: Build a dataset that can give me the average price per squarefoot for different types of properties."
   ]
  },
  {
   "cell_type": "markdown",
   "metadata": {},
   "source": [
    "## 1. Import Libraries"
   ]
  },
  {
   "cell_type": "code",
   "execution_count": 2,
   "metadata": {},
   "outputs": [],
   "source": [
    "import pandas as pd"
   ]
  },
  {
   "cell_type": "markdown",
   "metadata": {},
   "source": [
    "## 2. Load the Dataset"
   ]
  },
  {
   "cell_type": "code",
   "execution_count": 3,
   "metadata": {},
   "outputs": [
    {
     "name": "stdout",
     "output_type": "stream",
     "text": [
      "<class 'pandas.core.frame.DataFrame'>\n",
      "RangeIndex: 4801 entries, 0 to 4800\n",
      "Data columns (total 17 columns):\n",
      " #   Column                       Non-Null Count  Dtype  \n",
      "---  ------                       --------------  -----  \n",
      " 0   BROKERTITLE                  4801 non-null   object \n",
      " 1   TYPE                         4801 non-null   object \n",
      " 2   PRICE                        4801 non-null   int64  \n",
      " 3   BEDS                         4801 non-null   int64  \n",
      " 4   BATH                         4801 non-null   float64\n",
      " 5   PROPERTYSQFT                 4801 non-null   float64\n",
      " 6   ADDRESS                      4801 non-null   object \n",
      " 7   STATE                        4801 non-null   object \n",
      " 8   MAIN_ADDRESS                 4801 non-null   object \n",
      " 9   ADMINISTRATIVE_AREA_LEVEL_2  4801 non-null   object \n",
      " 10  LOCALITY                     4801 non-null   object \n",
      " 11  SUBLOCALITY                  4801 non-null   object \n",
      " 12  STREET_NAME                  4801 non-null   object \n",
      " 13  LONG_NAME                    4801 non-null   object \n",
      " 14  FORMATTED_ADDRESS            4801 non-null   object \n",
      " 15  LATITUDE                     4801 non-null   float64\n",
      " 16  LONGITUDE                    4801 non-null   float64\n",
      "dtypes: float64(4), int64(2), object(11)\n",
      "memory usage: 637.8+ KB\n"
     ]
    }
   ],
   "source": [
    "df = pd.read_csv('data/NY-House-Dataset.csv')\n",
    "\n",
    "df.info()"
   ]
  },
  {
   "cell_type": "markdown",
   "metadata": {},
   "source": [
    "## 3. Modifying Columns"
   ]
  },
  {
   "cell_type": "markdown",
   "metadata": {},
   "source": [
    "### Dropping Columns"
   ]
  },
  {
   "cell_type": "code",
   "execution_count": 4,
   "metadata": {},
   "outputs": [],
   "source": [
    "# Drop specific column\n",
    "df.drop(\"ADMINISTRATIVE_AREA_LEVEL_2\", axis=1, inplace=True)"
   ]
  },
  {
   "cell_type": "code",
   "execution_count": 5,
   "metadata": {},
   "outputs": [],
   "source": [
    "# Drop all except x\n",
    "# PROPERTYSQFT, PRICE, and TYPE used in class\n",
    "# BROKERTITLE, BEDS, BATH, SUBLOCALITY, LOCALITY used in lab/homework\n",
    "df = df[[\"PROPERTYSQFT\", \"PRICE\", \"TYPE\", \"BROKERTITLE\", \"BEDS\", \"BATH\", \"SUBLOCALITY\", \"LOCALITY\"]]"
   ]
  },
  {
   "cell_type": "markdown",
   "metadata": {},
   "source": [
    "### Adding Columns"
   ]
  },
  {
   "cell_type": "code",
   "execution_count": 6,
   "metadata": {},
   "outputs": [],
   "source": [
    "# Calculate $/sqft\n",
    "df[\"PERSQFT\"] = df[\"PRICE\"] / df[\"PROPERTYSQFT\"]"
   ]
  },
  {
   "cell_type": "markdown",
   "metadata": {},
   "source": [
    "## 4. Sorting"
   ]
  },
  {
   "cell_type": "code",
   "execution_count": 7,
   "metadata": {},
   "outputs": [
    {
     "data": {
      "text/html": [
       "<div>\n",
       "<style scoped>\n",
       "    .dataframe tbody tr th:only-of-type {\n",
       "        vertical-align: middle;\n",
       "    }\n",
       "\n",
       "    .dataframe tbody tr th {\n",
       "        vertical-align: top;\n",
       "    }\n",
       "\n",
       "    .dataframe thead th {\n",
       "        text-align: right;\n",
       "    }\n",
       "</style>\n",
       "<table border=\"1\" class=\"dataframe\">\n",
       "  <thead>\n",
       "    <tr style=\"text-align: right;\">\n",
       "      <th></th>\n",
       "      <th>PROPERTYSQFT</th>\n",
       "      <th>PRICE</th>\n",
       "      <th>TYPE</th>\n",
       "      <th>BROKERTITLE</th>\n",
       "      <th>BEDS</th>\n",
       "      <th>BATH</th>\n",
       "      <th>SUBLOCALITY</th>\n",
       "      <th>LOCALITY</th>\n",
       "      <th>PERSQFT</th>\n",
       "    </tr>\n",
       "  </thead>\n",
       "  <tbody>\n",
       "    <tr>\n",
       "      <th>304</th>\n",
       "      <td>10000.000000</td>\n",
       "      <td>2147483647</td>\n",
       "      <td>House for sale</td>\n",
       "      <td>Brokered by ANNE LOPA REAL ESTATE</td>\n",
       "      <td>7</td>\n",
       "      <td>6.000000</td>\n",
       "      <td>Richmond County</td>\n",
       "      <td>New York</td>\n",
       "      <td>214748.364700</td>\n",
       "    </tr>\n",
       "    <tr>\n",
       "      <th>1075</th>\n",
       "      <td>2184.207862</td>\n",
       "      <td>60000000</td>\n",
       "      <td>Co-op for sale</td>\n",
       "      <td>Brokered by COMPASS</td>\n",
       "      <td>8</td>\n",
       "      <td>8.000000</td>\n",
       "      <td>New York</td>\n",
       "      <td>New York County</td>\n",
       "      <td>27469.913026</td>\n",
       "    </tr>\n",
       "    <tr>\n",
       "      <th>1453</th>\n",
       "      <td>2184.207862</td>\n",
       "      <td>48000000</td>\n",
       "      <td>Co-op for sale</td>\n",
       "      <td>Brokered by Corcoran East Side</td>\n",
       "      <td>5</td>\n",
       "      <td>2.373861</td>\n",
       "      <td>New York</td>\n",
       "      <td>New York County</td>\n",
       "      <td>21975.930421</td>\n",
       "    </tr>\n",
       "    <tr>\n",
       "      <th>3388</th>\n",
       "      <td>2184.207862</td>\n",
       "      <td>45000000</td>\n",
       "      <td>Co-op for sale</td>\n",
       "      <td>Brokered by Sotheby's International Realty - E...</td>\n",
       "      <td>5</td>\n",
       "      <td>2.373861</td>\n",
       "      <td>New York</td>\n",
       "      <td>New York County</td>\n",
       "      <td>20602.434770</td>\n",
       "    </tr>\n",
       "    <tr>\n",
       "      <th>3571</th>\n",
       "      <td>2184.207862</td>\n",
       "      <td>44500000</td>\n",
       "      <td>Co-op for sale</td>\n",
       "      <td>Brokered by Sotheby's International Realty - E...</td>\n",
       "      <td>5</td>\n",
       "      <td>6.000000</td>\n",
       "      <td>New York</td>\n",
       "      <td>New York County</td>\n",
       "      <td>20373.518828</td>\n",
       "    </tr>\n",
       "    <tr>\n",
       "      <th>...</th>\n",
       "      <td>...</td>\n",
       "      <td>...</td>\n",
       "      <td>...</td>\n",
       "      <td>...</td>\n",
       "      <td>...</td>\n",
       "      <td>...</td>\n",
       "      <td>...</td>\n",
       "      <td>...</td>\n",
       "      <td>...</td>\n",
       "    </tr>\n",
       "    <tr>\n",
       "      <th>318</th>\n",
       "      <td>2184.207862</td>\n",
       "      <td>99000</td>\n",
       "      <td>Condo for sale</td>\n",
       "      <td>Brokered by 5 Boro Realty Corp</td>\n",
       "      <td>1</td>\n",
       "      <td>1.000000</td>\n",
       "      <td>Brooklyn</td>\n",
       "      <td>Kings County</td>\n",
       "      <td>45.325356</td>\n",
       "    </tr>\n",
       "    <tr>\n",
       "      <th>4003</th>\n",
       "      <td>2184.207862</td>\n",
       "      <td>75000</td>\n",
       "      <td>Land for sale</td>\n",
       "      <td>Brokered by Prestige Homes Ny Inc</td>\n",
       "      <td>3</td>\n",
       "      <td>2.373861</td>\n",
       "      <td>New York</td>\n",
       "      <td>United States</td>\n",
       "      <td>34.337391</td>\n",
       "    </tr>\n",
       "    <tr>\n",
       "      <th>360</th>\n",
       "      <td>2184.207862</td>\n",
       "      <td>5800</td>\n",
       "      <td>Land for sale</td>\n",
       "      <td>Brokered by Century 21 Realty First</td>\n",
       "      <td>3</td>\n",
       "      <td>2.373861</td>\n",
       "      <td>Brooklyn</td>\n",
       "      <td>Kings County</td>\n",
       "      <td>2.655425</td>\n",
       "    </tr>\n",
       "    <tr>\n",
       "      <th>310</th>\n",
       "      <td>2184.207862</td>\n",
       "      <td>3225</td>\n",
       "      <td>For sale</td>\n",
       "      <td>Brokered by Living NY - Main Office</td>\n",
       "      <td>3</td>\n",
       "      <td>1.000000</td>\n",
       "      <td>New York</td>\n",
       "      <td>New York County</td>\n",
       "      <td>1.476508</td>\n",
       "    </tr>\n",
       "    <tr>\n",
       "      <th>317</th>\n",
       "      <td>2184.207862</td>\n",
       "      <td>2494</td>\n",
       "      <td>For sale</td>\n",
       "      <td>Brokered by Living NY - Main Office</td>\n",
       "      <td>2</td>\n",
       "      <td>1.000000</td>\n",
       "      <td>New York</td>\n",
       "      <td>New York County</td>\n",
       "      <td>1.141833</td>\n",
       "    </tr>\n",
       "  </tbody>\n",
       "</table>\n",
       "<p>4801 rows × 9 columns</p>\n",
       "</div>"
      ],
      "text/plain": [
       "      PROPERTYSQFT       PRICE            TYPE  \\\n",
       "304   10000.000000  2147483647  House for sale   \n",
       "1075   2184.207862    60000000  Co-op for sale   \n",
       "1453   2184.207862    48000000  Co-op for sale   \n",
       "3388   2184.207862    45000000  Co-op for sale   \n",
       "3571   2184.207862    44500000  Co-op for sale   \n",
       "...            ...         ...             ...   \n",
       "318    2184.207862       99000  Condo for sale   \n",
       "4003   2184.207862       75000   Land for sale   \n",
       "360    2184.207862        5800   Land for sale   \n",
       "310    2184.207862        3225        For sale   \n",
       "317    2184.207862        2494        For sale   \n",
       "\n",
       "                                            BROKERTITLE  BEDS      BATH  \\\n",
       "304                   Brokered by ANNE LOPA REAL ESTATE     7  6.000000   \n",
       "1075                                Brokered by COMPASS     8  8.000000   \n",
       "1453                     Brokered by Corcoran East Side     5  2.373861   \n",
       "3388  Brokered by Sotheby's International Realty - E...     5  2.373861   \n",
       "3571  Brokered by Sotheby's International Realty - E...     5  6.000000   \n",
       "...                                                 ...   ...       ...   \n",
       "318                      Brokered by 5 Boro Realty Corp     1  1.000000   \n",
       "4003                  Brokered by Prestige Homes Ny Inc     3  2.373861   \n",
       "360                 Brokered by Century 21 Realty First     3  2.373861   \n",
       "310                 Brokered by Living NY - Main Office     3  1.000000   \n",
       "317                 Brokered by Living NY - Main Office     2  1.000000   \n",
       "\n",
       "          SUBLOCALITY         LOCALITY        PERSQFT  \n",
       "304   Richmond County         New York  214748.364700  \n",
       "1075         New York  New York County   27469.913026  \n",
       "1453         New York  New York County   21975.930421  \n",
       "3388         New York  New York County   20602.434770  \n",
       "3571         New York  New York County   20373.518828  \n",
       "...               ...              ...            ...  \n",
       "318          Brooklyn     Kings County      45.325356  \n",
       "4003         New York    United States      34.337391  \n",
       "360          Brooklyn     Kings County       2.655425  \n",
       "310          New York  New York County       1.476508  \n",
       "317          New York  New York County       1.141833  \n",
       "\n",
       "[4801 rows x 9 columns]"
      ]
     },
     "execution_count": 7,
     "metadata": {},
     "output_type": "execute_result"
    }
   ],
   "source": [
    "df.sort_values(\"PERSQFT\", ascending=False)"
   ]
  },
  {
   "cell_type": "markdown",
   "metadata": {},
   "source": [
    "## 5. Removing Rows"
   ]
  },
  {
   "cell_type": "code",
   "execution_count": 8,
   "metadata": {},
   "outputs": [],
   "source": [
    "# Remove all rows we don't want to keep\n",
    "keep = ['Condo for sale', 'House for sale', 'Townhouse for sale',\n",
    "       'Co-op for sale', 'Multi-family home for sale','Mobile house for sale']\n",
    "filtered_df = df.loc[df['TYPE'].isin(keep)]"
   ]
  },
  {
   "cell_type": "markdown",
   "metadata": {},
   "source": [
    "## 6. Map\n",
    "The same as in map, filter, reduce. Allows us to modify every value in a column.\n",
    "\n",
    "Could use a separate function or a lambda expression."
   ]
  },
  {
   "cell_type": "code",
   "execution_count": 9,
   "metadata": {},
   "outputs": [
    {
     "name": "stderr",
     "output_type": "stream",
     "text": [
      "/var/folders/jf/hz97w2_s6sv3h8hxx1mhrzqr0000gn/T/ipykernel_21847/937672506.py:8: SettingWithCopyWarning: \n",
      "A value is trying to be set on a copy of a slice from a DataFrame.\n",
      "Try using .loc[row_indexer,col_indexer] = value instead\n",
      "\n",
      "See the caveats in the documentation: https://pandas.pydata.org/pandas-docs/stable/user_guide/indexing.html#returning-a-view-versus-a-copy\n",
      "  filtered_df[\"TYPE\"] = filtered_df[\"TYPE\"].map(remove_for_sale)\n"
     ]
    }
   ],
   "source": [
    "# Removes the \" for sale\" if it exists\n",
    "def remove_for_sale(word):\n",
    "    index = word.find(\" for sale\")\n",
    "    if index != -1:\n",
    "        return word[:index]\n",
    "    return word\n",
    "\n",
    "filtered_df[\"TYPE\"] = filtered_df[\"TYPE\"].map(remove_for_sale)\n"
   ]
  },
  {
   "cell_type": "markdown",
   "metadata": {},
   "source": [
    "## 7. Groupby"
   ]
  },
  {
   "cell_type": "code",
   "execution_count": 10,
   "metadata": {},
   "outputs": [
    {
     "data": {
      "text/html": [
       "<div>\n",
       "<style scoped>\n",
       "    .dataframe tbody tr th:only-of-type {\n",
       "        vertical-align: middle;\n",
       "    }\n",
       "\n",
       "    .dataframe tbody tr th {\n",
       "        vertical-align: top;\n",
       "    }\n",
       "\n",
       "    .dataframe thead th {\n",
       "        text-align: right;\n",
       "    }\n",
       "</style>\n",
       "<table border=\"1\" class=\"dataframe\">\n",
       "  <thead>\n",
       "    <tr style=\"text-align: right;\">\n",
       "      <th></th>\n",
       "      <th>PERSQFT</th>\n",
       "    </tr>\n",
       "    <tr>\n",
       "      <th>TYPE</th>\n",
       "      <th></th>\n",
       "    </tr>\n",
       "  </thead>\n",
       "  <tbody>\n",
       "    <tr>\n",
       "      <th>Co-op</th>\n",
       "      <td>605.463668</td>\n",
       "    </tr>\n",
       "    <tr>\n",
       "      <th>Condo</th>\n",
       "      <td>1220.072386</td>\n",
       "    </tr>\n",
       "    <tr>\n",
       "      <th>House</th>\n",
       "      <td>835.314814</td>\n",
       "    </tr>\n",
       "    <tr>\n",
       "      <th>Mobile house</th>\n",
       "      <td>589.687466</td>\n",
       "    </tr>\n",
       "    <tr>\n",
       "      <th>Multi-family home</th>\n",
       "      <td>599.004669</td>\n",
       "    </tr>\n",
       "    <tr>\n",
       "      <th>Townhouse</th>\n",
       "      <td>1533.853853</td>\n",
       "    </tr>\n",
       "  </tbody>\n",
       "</table>\n",
       "</div>"
      ],
      "text/plain": [
       "                       PERSQFT\n",
       "TYPE                          \n",
       "Co-op               605.463668\n",
       "Condo              1220.072386\n",
       "House               835.314814\n",
       "Mobile house        589.687466\n",
       "Multi-family home   599.004669\n",
       "Townhouse          1533.853853"
      ]
     },
     "execution_count": 10,
     "metadata": {},
     "output_type": "execute_result"
    }
   ],
   "source": [
    "filtered_df.groupby(\"TYPE\")[[\"PERSQFT\"]].mean()"
   ]
  },
  {
   "cell_type": "markdown",
   "metadata": {},
   "source": [
    "## 8. Homework\n",
    "### Goal 1: Remove the “Brokered by ” for every row in the BROKERTITLE column."
   ]
  },
  {
   "cell_type": "code",
   "execution_count": 11,
   "metadata": {},
   "outputs": [
    {
     "data": {
      "text/plain": [
       "BROKERTITLE\n",
       "COMPASS                              456\n",
       "Douglas Elliman - 575 Madison Ave    110\n",
       "Brown Harris Stevens                  93\n",
       "Corcoran East Side                    91\n",
       "RE MAX Edge                           79\n",
       "                                    ... \n",
       "Gerard R Desgranges                    1\n",
       "Property Professional Realty           1\n",
       "Mark Murphy Properties                 1\n",
       "S Sharf Realty Inc                     1\n",
       "New York Way Real Estate Corp          1\n",
       "Name: count, Length: 1036, dtype: int64"
      ]
     },
     "execution_count": 11,
     "metadata": {},
     "output_type": "execute_result"
    }
   ],
   "source": [
    "# Remove brokered by using python's built-in removeprefix function\n",
    "df[\"BROKERTITLE\"] = df[\"BROKERTITLE\"].map(lambda x:x.removeprefix(\"Brokered by \"))\n",
    "# Show different value counts for each brokertitle\n",
    "df[\"BROKERTITLE\"].value_counts()"
   ]
  },
  {
   "cell_type": "markdown",
   "metadata": {},
   "source": [
    "### Goal 2: Get the max* square footage in each Locality that ends with “County”. For example, we don’t care about “The Bronx” but we care about “Bronx County”."
   ]
  },
  {
   "cell_type": "code",
   "execution_count": 12,
   "metadata": {},
   "outputs": [
    {
     "data": {
      "text/html": [
       "<div>\n",
       "<style scoped>\n",
       "    .dataframe tbody tr th:only-of-type {\n",
       "        vertical-align: middle;\n",
       "    }\n",
       "\n",
       "    .dataframe tbody tr th {\n",
       "        vertical-align: top;\n",
       "    }\n",
       "\n",
       "    .dataframe thead th {\n",
       "        text-align: right;\n",
       "    }\n",
       "</style>\n",
       "<table border=\"1\" class=\"dataframe\">\n",
       "  <thead>\n",
       "    <tr style=\"text-align: right;\">\n",
       "      <th></th>\n",
       "      <th>PROPERTYSQFT</th>\n",
       "    </tr>\n",
       "    <tr>\n",
       "      <th>LOCALITY</th>\n",
       "      <th></th>\n",
       "    </tr>\n",
       "  </thead>\n",
       "  <tbody>\n",
       "    <tr>\n",
       "      <th>Bronx County</th>\n",
       "      <td>4000.0</td>\n",
       "    </tr>\n",
       "    <tr>\n",
       "      <th>Kings County</th>\n",
       "      <td>18936.0</td>\n",
       "    </tr>\n",
       "    <tr>\n",
       "      <th>New York County</th>\n",
       "      <td>8360.0</td>\n",
       "    </tr>\n",
       "    <tr>\n",
       "      <th>Queens County</th>\n",
       "      <td>5000.0</td>\n",
       "    </tr>\n",
       "    <tr>\n",
       "      <th>Richmond County</th>\n",
       "      <td>5400.0</td>\n",
       "    </tr>\n",
       "  </tbody>\n",
       "</table>\n",
       "</div>"
      ],
      "text/plain": [
       "                 PROPERTYSQFT\n",
       "LOCALITY                     \n",
       "Bronx County           4000.0\n",
       "Kings County          18936.0\n",
       "New York County        8360.0\n",
       "Queens County          5000.0\n",
       "Richmond County        5400.0"
      ]
     },
     "execution_count": 12,
     "metadata": {},
     "output_type": "execute_result"
    }
   ],
   "source": [
    "# Select columns locality and propertysqft, then filter the localities to contain \"COUNTY\", group by the locality, and find the highest sqft\n",
    "df[[\"LOCALITY\", \"PROPERTYSQFT\"]].query(\"LOCALITY.str.contains('County')\").groupby(\"LOCALITY\").max(\"PROPERTYSQFT\")"
   ]
  },
  {
   "cell_type": "markdown",
   "metadata": {},
   "source": [
    "### Goal 3: Get the average ratio of bedrooms to bathrooms per sublocality and sort it in descending order."
   ]
  },
  {
   "cell_type": "code",
   "execution_count": 15,
   "metadata": {},
   "outputs": [
    {
     "data": {
      "text/html": [
       "<div>\n",
       "<style scoped>\n",
       "    .dataframe tbody tr th:only-of-type {\n",
       "        vertical-align: middle;\n",
       "    }\n",
       "\n",
       "    .dataframe tbody tr th {\n",
       "        vertical-align: top;\n",
       "    }\n",
       "\n",
       "    .dataframe thead th {\n",
       "        text-align: right;\n",
       "    }\n",
       "</style>\n",
       "<table border=\"1\" class=\"dataframe\">\n",
       "  <thead>\n",
       "    <tr style=\"text-align: right;\">\n",
       "      <th></th>\n",
       "      <th>BEDTOBATH</th>\n",
       "    </tr>\n",
       "    <tr>\n",
       "      <th>SUBLOCALITY</th>\n",
       "      <th></th>\n",
       "    </tr>\n",
       "  </thead>\n",
       "  <tbody>\n",
       "    <tr>\n",
       "      <th>New York</th>\n",
       "      <td>inf</td>\n",
       "    </tr>\n",
       "    <tr>\n",
       "      <th>New York County</th>\n",
       "      <td>inf</td>\n",
       "    </tr>\n",
       "    <tr>\n",
       "      <th>Brooklyn Heights</th>\n",
       "      <td>3.000000</td>\n",
       "    </tr>\n",
       "    <tr>\n",
       "      <th>Snyder Avenue</th>\n",
       "      <td>3.000000</td>\n",
       "    </tr>\n",
       "    <tr>\n",
       "      <th>Rego Park</th>\n",
       "      <td>3.000000</td>\n",
       "    </tr>\n",
       "    <tr>\n",
       "      <th>Bronx County</th>\n",
       "      <td>1.794739</td>\n",
       "    </tr>\n",
       "    <tr>\n",
       "      <th>Kings County</th>\n",
       "      <td>1.666987</td>\n",
       "    </tr>\n",
       "    <tr>\n",
       "      <th>Queens County</th>\n",
       "      <td>1.644182</td>\n",
       "    </tr>\n",
       "    <tr>\n",
       "      <th>Staten Island</th>\n",
       "      <td>1.566617</td>\n",
       "    </tr>\n",
       "    <tr>\n",
       "      <th>Richmond County</th>\n",
       "      <td>1.517340</td>\n",
       "    </tr>\n",
       "    <tr>\n",
       "      <th>Jackson Heights</th>\n",
       "      <td>1.500000</td>\n",
       "    </tr>\n",
       "    <tr>\n",
       "      <th>Queens</th>\n",
       "      <td>1.484284</td>\n",
       "    </tr>\n",
       "    <tr>\n",
       "      <th>Brooklyn</th>\n",
       "      <td>1.459089</td>\n",
       "    </tr>\n",
       "    <tr>\n",
       "      <th>The Bronx</th>\n",
       "      <td>1.448444</td>\n",
       "    </tr>\n",
       "    <tr>\n",
       "      <th>Flushing</th>\n",
       "      <td>1.250000</td>\n",
       "    </tr>\n",
       "    <tr>\n",
       "      <th>Riverdale</th>\n",
       "      <td>1.250000</td>\n",
       "    </tr>\n",
       "    <tr>\n",
       "      <th>Coney Island</th>\n",
       "      <td>1.166667</td>\n",
       "    </tr>\n",
       "    <tr>\n",
       "      <th>Manhattan</th>\n",
       "      <td>1.007937</td>\n",
       "    </tr>\n",
       "    <tr>\n",
       "      <th>Fort Hamilton</th>\n",
       "      <td>1.000000</td>\n",
       "    </tr>\n",
       "    <tr>\n",
       "      <th>East Bronx</th>\n",
       "      <td>1.000000</td>\n",
       "    </tr>\n",
       "    <tr>\n",
       "      <th>Dumbo</th>\n",
       "      <td>0.750000</td>\n",
       "    </tr>\n",
       "  </tbody>\n",
       "</table>\n",
       "</div>"
      ],
      "text/plain": [
       "                  BEDTOBATH\n",
       "SUBLOCALITY                \n",
       "New York                inf\n",
       "New York County         inf\n",
       "Brooklyn Heights   3.000000\n",
       "Snyder Avenue      3.000000\n",
       "Rego Park          3.000000\n",
       "Bronx County       1.794739\n",
       "Kings County       1.666987\n",
       "Queens County      1.644182\n",
       "Staten Island      1.566617\n",
       "Richmond County    1.517340\n",
       "Jackson Heights    1.500000\n",
       "Queens             1.484284\n",
       "Brooklyn           1.459089\n",
       "The Bronx          1.448444\n",
       "Flushing           1.250000\n",
       "Riverdale          1.250000\n",
       "Coney Island       1.166667\n",
       "Manhattan          1.007937\n",
       "Fort Hamilton      1.000000\n",
       "East Bronx         1.000000\n",
       "Dumbo              0.750000"
      ]
     },
     "execution_count": 15,
     "metadata": {},
     "output_type": "execute_result"
    }
   ],
   "source": [
    "# Calculate bed to bath ratio of every property\n",
    "df[\"BEDTOBATH\"] = df[\"BEDS\"] / df[\"BATH\"]\n",
    "# Filter columns to only include sublocality and bedtobath, then group by sublocality and find average\n",
    "df[[\"SUBLOCALITY\", \"BEDTOBATH\"]].groupby(\"SUBLOCALITY\").mean().sort_values(\"BEDTOBATH\", ascending=False)"
   ]
  }
 ],
 "metadata": {
  "kernelspec": {
   "display_name": ".venv",
   "language": "python",
   "name": "python3"
  },
  "language_info": {
   "codemirror_mode": {
    "name": "ipython",
    "version": 3
   },
   "file_extension": ".py",
   "mimetype": "text/x-python",
   "name": "python",
   "nbconvert_exporter": "python",
   "pygments_lexer": "ipython3",
   "version": "3.11.6"
  }
 },
 "nbformat": 4,
 "nbformat_minor": 2
}
