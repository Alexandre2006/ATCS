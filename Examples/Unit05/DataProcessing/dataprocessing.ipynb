{
 "cells": [
  {
   "cell_type": "markdown",
   "metadata": {},
   "source": [
    "# Data Processing\n",
    "\n",
    "Goal: Understand and clean our data so we can derive better insights"
   ]
  },
  {
   "cell_type": "markdown",
   "metadata": {},
   "source": [
    "## 1. Import Libraries"
   ]
  },
  {
   "cell_type": "code",
   "execution_count": 121,
   "metadata": {},
   "outputs": [],
   "source": [
    "import pandas as pd"
   ]
  },
  {
   "cell_type": "markdown",
   "metadata": {},
   "source": [
    "## 2. Load the Dataset"
   ]
  },
  {
   "cell_type": "code",
   "execution_count": 122,
   "metadata": {},
   "outputs": [],
   "source": [
    "df = pd.read_csv(\"data/NY-House-Dataset-Small.csv\")"
   ]
  },
  {
   "cell_type": "code",
   "execution_count": 114,
   "metadata": {},
   "outputs": [
    {
     "name": "stdout",
     "output_type": "stream",
     "text": [
      "<class 'pandas.core.frame.DataFrame'>\n",
      "RangeIndex: 4815 entries, 0 to 4814\n",
      "Data columns (total 11 columns):\n",
      " #   Column                       Non-Null Count  Dtype  \n",
      "---  ------                       --------------  -----  \n",
      " 0   BROKERTITLE                  1789 non-null   object \n",
      " 1   TYPE                         4815 non-null   object \n",
      " 2   PRICE                        4815 non-null   int64  \n",
      " 3   BEDS                         4815 non-null   int64  \n",
      " 4   BATH                         4815 non-null   float64\n",
      " 5   PROPERTYSQFT                 4815 non-null   float64\n",
      " 6   STATE                        4815 non-null   object \n",
      " 7   MAIN_ADDRESS                 4815 non-null   object \n",
      " 8   ADMINISTRATIVE_AREA_LEVEL_2  2135 non-null   object \n",
      " 9   LOCALITY                     4791 non-null   object \n",
      " 10  SUBLOCALITY                  4815 non-null   object \n",
      "dtypes: float64(2), int64(2), object(7)\n",
      "memory usage: 413.9+ KB\n"
     ]
    },
    {
     "data": {
      "text/plain": [
       "Index(['BROKERTITLE', 'TYPE', 'PRICE', 'BEDS', 'BATH', 'PROPERTYSQFT', 'STATE',\n",
       "       'MAIN_ADDRESS', 'ADMINISTRATIVE_AREA_LEVEL_2', 'LOCALITY',\n",
       "       'SUBLOCALITY'],\n",
       "      dtype='object')"
      ]
     },
     "execution_count": 114,
     "metadata": {},
     "output_type": "execute_result"
    }
   ],
   "source": [
    "df.info()\n",
    "df.columns"
   ]
  },
  {
   "cell_type": "markdown",
   "metadata": {},
   "source": [
    "## 3. Handle Duplicates"
   ]
  },
  {
   "cell_type": "code",
   "execution_count": 115,
   "metadata": {},
   "outputs": [
    {
     "data": {
      "text/html": [
       "<div>\n",
       "<style scoped>\n",
       "    .dataframe tbody tr th:only-of-type {\n",
       "        vertical-align: middle;\n",
       "    }\n",
       "\n",
       "    .dataframe tbody tr th {\n",
       "        vertical-align: top;\n",
       "    }\n",
       "\n",
       "    .dataframe thead th {\n",
       "        text-align: right;\n",
       "    }\n",
       "</style>\n",
       "<table border=\"1\" class=\"dataframe\">\n",
       "  <thead>\n",
       "    <tr style=\"text-align: right;\">\n",
       "      <th></th>\n",
       "      <th>BROKERTITLE</th>\n",
       "      <th>TYPE</th>\n",
       "      <th>PRICE</th>\n",
       "      <th>BEDS</th>\n",
       "      <th>BATH</th>\n",
       "      <th>PROPERTYSQFT</th>\n",
       "      <th>STATE</th>\n",
       "      <th>MAIN_ADDRESS</th>\n",
       "      <th>ADMINISTRATIVE_AREA_LEVEL_2</th>\n",
       "      <th>LOCALITY</th>\n",
       "      <th>SUBLOCALITY</th>\n",
       "    </tr>\n",
       "  </thead>\n",
       "  <tbody>\n",
       "    <tr>\n",
       "      <th>3639</th>\n",
       "      <td>NaN</td>\n",
       "      <td>Co-op for sale</td>\n",
       "      <td>119000</td>\n",
       "      <td>3</td>\n",
       "      <td>1.000000</td>\n",
       "      <td>2184.207862</td>\n",
       "      <td>Jamaica, NY 11432</td>\n",
       "      <td>89-00 170 St Unit 11NJamaica, NY 11432</td>\n",
       "      <td>New York</td>\n",
       "      <td>Queens County</td>\n",
       "      <td>Queens</td>\n",
       "    </tr>\n",
       "    <tr>\n",
       "      <th>3629</th>\n",
       "      <td>NaN</td>\n",
       "      <td>Co-op for sale</td>\n",
       "      <td>119000</td>\n",
       "      <td>3</td>\n",
       "      <td>1.000000</td>\n",
       "      <td>2184.207862</td>\n",
       "      <td>Jamaica, NY 11432</td>\n",
       "      <td>89-00 170 St Unit 11NJamaica, NY 11432</td>\n",
       "      <td>New York</td>\n",
       "      <td>Queens County</td>\n",
       "      <td>Queens</td>\n",
       "    </tr>\n",
       "    <tr>\n",
       "      <th>1520</th>\n",
       "      <td>NaN</td>\n",
       "      <td>Co-op for sale</td>\n",
       "      <td>174000</td>\n",
       "      <td>1</td>\n",
       "      <td>1.000000</td>\n",
       "      <td>800.000000</td>\n",
       "      <td>Brooklyn, NY 11229</td>\n",
       "      <td>3105 Avenue V Apt 1HBrooklyn, NY 11229</td>\n",
       "      <td>NaN</td>\n",
       "      <td>Kings County</td>\n",
       "      <td>Brooklyn</td>\n",
       "    </tr>\n",
       "    <tr>\n",
       "      <th>1522</th>\n",
       "      <td>Brokered by TRACEY REAL ESTATE</td>\n",
       "      <td>Co-op for sale</td>\n",
       "      <td>174000</td>\n",
       "      <td>1</td>\n",
       "      <td>1.000000</td>\n",
       "      <td>800.000000</td>\n",
       "      <td>Brooklyn, NY 11229</td>\n",
       "      <td>3105 Avenue V Apt 1HBrooklyn, NY 11229</td>\n",
       "      <td>New York</td>\n",
       "      <td>Kings County</td>\n",
       "      <td>Brooklyn</td>\n",
       "    </tr>\n",
       "    <tr>\n",
       "      <th>2128</th>\n",
       "      <td>NaN</td>\n",
       "      <td>Co-op for sale</td>\n",
       "      <td>174000</td>\n",
       "      <td>1</td>\n",
       "      <td>1.000000</td>\n",
       "      <td>800.000000</td>\n",
       "      <td>Brooklyn, NY 11229</td>\n",
       "      <td>3105 Avenue V Apt 1HBrooklyn, NY 11229</td>\n",
       "      <td>NaN</td>\n",
       "      <td>Kings County</td>\n",
       "      <td>Brooklyn</td>\n",
       "    </tr>\n",
       "    <tr>\n",
       "      <th>...</th>\n",
       "      <td>...</td>\n",
       "      <td>...</td>\n",
       "      <td>...</td>\n",
       "      <td>...</td>\n",
       "      <td>...</td>\n",
       "      <td>...</td>\n",
       "      <td>...</td>\n",
       "      <td>...</td>\n",
       "      <td>...</td>\n",
       "      <td>...</td>\n",
       "      <td>...</td>\n",
       "    </tr>\n",
       "    <tr>\n",
       "      <th>2678</th>\n",
       "      <td>Brokered by Keller Williams Realty NYC Grp</td>\n",
       "      <td>Multi-family home for sale</td>\n",
       "      <td>3200000</td>\n",
       "      <td>3</td>\n",
       "      <td>2.373861</td>\n",
       "      <td>3735.000000</td>\n",
       "      <td>New York, NY 10035</td>\n",
       "      <td>2117 5th AveNew York, NY 10035</td>\n",
       "      <td>NaN</td>\n",
       "      <td>New York</td>\n",
       "      <td>New York County</td>\n",
       "    </tr>\n",
       "    <tr>\n",
       "      <th>3469</th>\n",
       "      <td>NaN</td>\n",
       "      <td>Condo for sale</td>\n",
       "      <td>7600000</td>\n",
       "      <td>4</td>\n",
       "      <td>4.000000</td>\n",
       "      <td>3216.000000</td>\n",
       "      <td>New York, NY 10007</td>\n",
       "      <td>100 Barclay St Apt 20CNew York, NY 10007</td>\n",
       "      <td>NaN</td>\n",
       "      <td>New York County</td>\n",
       "      <td>New York</td>\n",
       "    </tr>\n",
       "    <tr>\n",
       "      <th>3473</th>\n",
       "      <td>NaN</td>\n",
       "      <td>Condo for sale</td>\n",
       "      <td>7600000</td>\n",
       "      <td>4</td>\n",
       "      <td>4.000000</td>\n",
       "      <td>3216.000000</td>\n",
       "      <td>New York, NY 10007</td>\n",
       "      <td>100 Barclay St Apt 20CNew York, NY 10007</td>\n",
       "      <td>NaN</td>\n",
       "      <td>New York County</td>\n",
       "      <td>New York</td>\n",
       "    </tr>\n",
       "    <tr>\n",
       "      <th>2355</th>\n",
       "      <td>NaN</td>\n",
       "      <td>Multi-family home for sale</td>\n",
       "      <td>16995000</td>\n",
       "      <td>5</td>\n",
       "      <td>4.000000</td>\n",
       "      <td>4230.000000</td>\n",
       "      <td>New York, NY 10014</td>\n",
       "      <td>31 Grove StNew York, NY 10014</td>\n",
       "      <td>NaN</td>\n",
       "      <td>New York</td>\n",
       "      <td>New York County</td>\n",
       "    </tr>\n",
       "    <tr>\n",
       "      <th>2347</th>\n",
       "      <td>NaN</td>\n",
       "      <td>Multi-family home for sale</td>\n",
       "      <td>16995000</td>\n",
       "      <td>5</td>\n",
       "      <td>4.000000</td>\n",
       "      <td>4230.000000</td>\n",
       "      <td>New York, NY 10014</td>\n",
       "      <td>31 Grove StNew York, NY 10014</td>\n",
       "      <td>NaN</td>\n",
       "      <td>New York</td>\n",
       "      <td>New York County</td>\n",
       "    </tr>\n",
       "  </tbody>\n",
       "</table>\n",
       "<p>105 rows × 11 columns</p>\n",
       "</div>"
      ],
      "text/plain": [
       "                                     BROKERTITLE                        TYPE  \\\n",
       "3639                                         NaN              Co-op for sale   \n",
       "3629                                         NaN              Co-op for sale   \n",
       "1520                                         NaN              Co-op for sale   \n",
       "1522              Brokered by TRACEY REAL ESTATE              Co-op for sale   \n",
       "2128                                         NaN              Co-op for sale   \n",
       "...                                          ...                         ...   \n",
       "2678  Brokered by Keller Williams Realty NYC Grp  Multi-family home for sale   \n",
       "3469                                         NaN              Condo for sale   \n",
       "3473                                         NaN              Condo for sale   \n",
       "2355                                         NaN  Multi-family home for sale   \n",
       "2347                                         NaN  Multi-family home for sale   \n",
       "\n",
       "         PRICE  BEDS      BATH  PROPERTYSQFT               STATE  \\\n",
       "3639    119000     3  1.000000   2184.207862   Jamaica, NY 11432   \n",
       "3629    119000     3  1.000000   2184.207862   Jamaica, NY 11432   \n",
       "1520    174000     1  1.000000    800.000000  Brooklyn, NY 11229   \n",
       "1522    174000     1  1.000000    800.000000  Brooklyn, NY 11229   \n",
       "2128    174000     1  1.000000    800.000000  Brooklyn, NY 11229   \n",
       "...        ...   ...       ...           ...                 ...   \n",
       "2678   3200000     3  2.373861   3735.000000  New York, NY 10035   \n",
       "3469   7600000     4  4.000000   3216.000000  New York, NY 10007   \n",
       "3473   7600000     4  4.000000   3216.000000  New York, NY 10007   \n",
       "2355  16995000     5  4.000000   4230.000000  New York, NY 10014   \n",
       "2347  16995000     5  4.000000   4230.000000  New York, NY 10014   \n",
       "\n",
       "                                  MAIN_ADDRESS ADMINISTRATIVE_AREA_LEVEL_2  \\\n",
       "3639    89-00 170 St Unit 11NJamaica, NY 11432                    New York   \n",
       "3629    89-00 170 St Unit 11NJamaica, NY 11432                    New York   \n",
       "1520    3105 Avenue V Apt 1HBrooklyn, NY 11229                         NaN   \n",
       "1522    3105 Avenue V Apt 1HBrooklyn, NY 11229                    New York   \n",
       "2128    3105 Avenue V Apt 1HBrooklyn, NY 11229                         NaN   \n",
       "...                                        ...                         ...   \n",
       "2678            2117 5th AveNew York, NY 10035                         NaN   \n",
       "3469  100 Barclay St Apt 20CNew York, NY 10007                         NaN   \n",
       "3473  100 Barclay St Apt 20CNew York, NY 10007                         NaN   \n",
       "2355             31 Grove StNew York, NY 10014                         NaN   \n",
       "2347             31 Grove StNew York, NY 10014                         NaN   \n",
       "\n",
       "             LOCALITY      SUBLOCALITY  \n",
       "3639    Queens County           Queens  \n",
       "3629    Queens County           Queens  \n",
       "1520     Kings County         Brooklyn  \n",
       "1522     Kings County         Brooklyn  \n",
       "2128     Kings County         Brooklyn  \n",
       "...               ...              ...  \n",
       "2678         New York  New York County  \n",
       "3469  New York County         New York  \n",
       "3473  New York County         New York  \n",
       "2355         New York  New York County  \n",
       "2347         New York  New York County  \n",
       "\n",
       "[105 rows x 11 columns]"
      ]
     },
     "execution_count": 115,
     "metadata": {},
     "output_type": "execute_result"
    }
   ],
   "source": [
    "# Find the # of duplicated rows\n",
    "df.duplicated().sum()\n",
    "\n",
    "# Find duplicates by column\n",
    "df.duplicated([\"MAIN_ADDRESS\"]).sum()\n",
    "\n",
    "# Filter to get duplicates\n",
    "df.loc[df.duplicated()]\n",
    "\n",
    "# Display all duplictaes (even first occurences)\n",
    "df.loc[df.duplicated(keep=False)].sort_values(\"PRICE\")\n",
    "\n"
   ]
  },
  {
   "cell_type": "code",
   "execution_count": 116,
   "metadata": {},
   "outputs": [],
   "source": [
    "df = df.drop_duplicates()"
   ]
  },
  {
   "cell_type": "code",
   "execution_count": 117,
   "metadata": {},
   "outputs": [
    {
     "data": {
      "text/plain": [
       "(4761, 11)"
      ]
     },
     "execution_count": 117,
     "metadata": {},
     "output_type": "execute_result"
    }
   ],
   "source": [
    "df.shape"
   ]
  },
  {
   "cell_type": "markdown",
   "metadata": {},
   "source": [
    "## 4. Handle Missing Data"
   ]
  },
  {
   "cell_type": "markdown",
   "metadata": {},
   "source": [
    "#### Generally Dropping Data"
   ]
  },
  {
   "cell_type": "code",
   "execution_count": 118,
   "metadata": {},
   "outputs": [
    {
     "data": {
      "text/html": [
       "<div>\n",
       "<style scoped>\n",
       "    .dataframe tbody tr th:only-of-type {\n",
       "        vertical-align: middle;\n",
       "    }\n",
       "\n",
       "    .dataframe tbody tr th {\n",
       "        vertical-align: top;\n",
       "    }\n",
       "\n",
       "    .dataframe thead th {\n",
       "        text-align: right;\n",
       "    }\n",
       "</style>\n",
       "<table border=\"1\" class=\"dataframe\">\n",
       "  <thead>\n",
       "    <tr style=\"text-align: right;\">\n",
       "      <th></th>\n",
       "      <th>TYPE</th>\n",
       "      <th>PRICE</th>\n",
       "      <th>BEDS</th>\n",
       "      <th>BATH</th>\n",
       "      <th>PROPERTYSQFT</th>\n",
       "      <th>STATE</th>\n",
       "      <th>MAIN_ADDRESS</th>\n",
       "      <th>SUBLOCALITY</th>\n",
       "    </tr>\n",
       "  </thead>\n",
       "  <tbody>\n",
       "    <tr>\n",
       "      <th>0</th>\n",
       "      <td>Condo for sale</td>\n",
       "      <td>315000</td>\n",
       "      <td>2</td>\n",
       "      <td>2.000000</td>\n",
       "      <td>1400.000000</td>\n",
       "      <td>New York, NY 10022</td>\n",
       "      <td>2 E 55th St Unit 803New York, NY 10022</td>\n",
       "      <td>Manhattan</td>\n",
       "    </tr>\n",
       "    <tr>\n",
       "      <th>1</th>\n",
       "      <td>Condo for sale</td>\n",
       "      <td>195000000</td>\n",
       "      <td>7</td>\n",
       "      <td>10.000000</td>\n",
       "      <td>17545.000000</td>\n",
       "      <td>New York, NY 10019</td>\n",
       "      <td>Central Park Tower Penthouse-217 W 57th New Yo...</td>\n",
       "      <td>New York County</td>\n",
       "    </tr>\n",
       "    <tr>\n",
       "      <th>2</th>\n",
       "      <td>House for sale</td>\n",
       "      <td>260000</td>\n",
       "      <td>4</td>\n",
       "      <td>2.000000</td>\n",
       "      <td>2015.000000</td>\n",
       "      <td>Staten Island, NY 10312</td>\n",
       "      <td>620 Sinclair AveStaten Island, NY 10312</td>\n",
       "      <td>Richmond County</td>\n",
       "    </tr>\n",
       "    <tr>\n",
       "      <th>3</th>\n",
       "      <td>Condo for sale</td>\n",
       "      <td>69000</td>\n",
       "      <td>3</td>\n",
       "      <td>1.000000</td>\n",
       "      <td>445.000000</td>\n",
       "      <td>Manhattan, NY 10022</td>\n",
       "      <td>2 E 55th St Unit 908W33Manhattan, NY 10022</td>\n",
       "      <td>New York County</td>\n",
       "    </tr>\n",
       "    <tr>\n",
       "      <th>4</th>\n",
       "      <td>Townhouse for sale</td>\n",
       "      <td>55000000</td>\n",
       "      <td>7</td>\n",
       "      <td>2.373861</td>\n",
       "      <td>14175.000000</td>\n",
       "      <td>New York, NY 10065</td>\n",
       "      <td>5 E 64th StNew York, NY 10065</td>\n",
       "      <td>New York County</td>\n",
       "    </tr>\n",
       "    <tr>\n",
       "      <th>...</th>\n",
       "      <td>...</td>\n",
       "      <td>...</td>\n",
       "      <td>...</td>\n",
       "      <td>...</td>\n",
       "      <td>...</td>\n",
       "      <td>...</td>\n",
       "      <td>...</td>\n",
       "      <td>...</td>\n",
       "    </tr>\n",
       "    <tr>\n",
       "      <th>4810</th>\n",
       "      <td>Co-op for sale</td>\n",
       "      <td>599000</td>\n",
       "      <td>1</td>\n",
       "      <td>1.000000</td>\n",
       "      <td>2184.207862</td>\n",
       "      <td>Manhattan, NY 10075</td>\n",
       "      <td>222 E 80th St Apt 3AManhattan, NY 10075</td>\n",
       "      <td>New York</td>\n",
       "    </tr>\n",
       "    <tr>\n",
       "      <th>4811</th>\n",
       "      <td>Co-op for sale</td>\n",
       "      <td>245000</td>\n",
       "      <td>1</td>\n",
       "      <td>1.000000</td>\n",
       "      <td>2184.207862</td>\n",
       "      <td>Rego Park, NY 11374</td>\n",
       "      <td>97-40 62 Dr Unit LgRego Park, NY 11374</td>\n",
       "      <td>Queens County</td>\n",
       "    </tr>\n",
       "    <tr>\n",
       "      <th>4812</th>\n",
       "      <td>Co-op for sale</td>\n",
       "      <td>1275000</td>\n",
       "      <td>1</td>\n",
       "      <td>1.000000</td>\n",
       "      <td>2184.207862</td>\n",
       "      <td>New York, NY 10011</td>\n",
       "      <td>427 W 21st St Unit GardenNew York, NY 10011</td>\n",
       "      <td>New York County</td>\n",
       "    </tr>\n",
       "    <tr>\n",
       "      <th>4813</th>\n",
       "      <td>Condo for sale</td>\n",
       "      <td>598125</td>\n",
       "      <td>2</td>\n",
       "      <td>1.000000</td>\n",
       "      <td>655.000000</td>\n",
       "      <td>Elmhurst, NY 11373</td>\n",
       "      <td>91-23 Corona Ave Unit 4GElmhurst, NY 11373</td>\n",
       "      <td>Queens</td>\n",
       "    </tr>\n",
       "    <tr>\n",
       "      <th>4814</th>\n",
       "      <td>Co-op for sale</td>\n",
       "      <td>349000</td>\n",
       "      <td>1</td>\n",
       "      <td>1.000000</td>\n",
       "      <td>750.000000</td>\n",
       "      <td>Brooklyn, NY 11224</td>\n",
       "      <td>460 Neptune Ave Apt 14OBrooklyn, NY 11224</td>\n",
       "      <td>Brooklyn</td>\n",
       "    </tr>\n",
       "  </tbody>\n",
       "</table>\n",
       "<p>4761 rows × 8 columns</p>\n",
       "</div>"
      ],
      "text/plain": [
       "                    TYPE      PRICE  BEDS       BATH  PROPERTYSQFT  \\\n",
       "0         Condo for sale     315000     2   2.000000   1400.000000   \n",
       "1         Condo for sale  195000000     7  10.000000  17545.000000   \n",
       "2         House for sale     260000     4   2.000000   2015.000000   \n",
       "3         Condo for sale      69000     3   1.000000    445.000000   \n",
       "4     Townhouse for sale   55000000     7   2.373861  14175.000000   \n",
       "...                  ...        ...   ...        ...           ...   \n",
       "4810      Co-op for sale     599000     1   1.000000   2184.207862   \n",
       "4811      Co-op for sale     245000     1   1.000000   2184.207862   \n",
       "4812      Co-op for sale    1275000     1   1.000000   2184.207862   \n",
       "4813      Condo for sale     598125     2   1.000000    655.000000   \n",
       "4814      Co-op for sale     349000     1   1.000000    750.000000   \n",
       "\n",
       "                        STATE  \\\n",
       "0          New York, NY 10022   \n",
       "1          New York, NY 10019   \n",
       "2     Staten Island, NY 10312   \n",
       "3         Manhattan, NY 10022   \n",
       "4          New York, NY 10065   \n",
       "...                       ...   \n",
       "4810      Manhattan, NY 10075   \n",
       "4811      Rego Park, NY 11374   \n",
       "4812       New York, NY 10011   \n",
       "4813       Elmhurst, NY 11373   \n",
       "4814       Brooklyn, NY 11224   \n",
       "\n",
       "                                           MAIN_ADDRESS      SUBLOCALITY  \n",
       "0                2 E 55th St Unit 803New York, NY 10022        Manhattan  \n",
       "1     Central Park Tower Penthouse-217 W 57th New Yo...  New York County  \n",
       "2               620 Sinclair AveStaten Island, NY 10312  Richmond County  \n",
       "3            2 E 55th St Unit 908W33Manhattan, NY 10022  New York County  \n",
       "4                         5 E 64th StNew York, NY 10065  New York County  \n",
       "...                                                 ...              ...  \n",
       "4810            222 E 80th St Apt 3AManhattan, NY 10075         New York  \n",
       "4811             97-40 62 Dr Unit LgRego Park, NY 11374    Queens County  \n",
       "4812        427 W 21st St Unit GardenNew York, NY 10011  New York County  \n",
       "4813         91-23 Corona Ave Unit 4GElmhurst, NY 11373           Queens  \n",
       "4814          460 Neptune Ave Apt 14OBrooklyn, NY 11224         Brooklyn  \n",
       "\n",
       "[4761 rows x 8 columns]"
      ]
     },
     "execution_count": 118,
     "metadata": {},
     "output_type": "execute_result"
    }
   ],
   "source": [
    "# Does a cell have a null value\n",
    "df.isna()\n",
    "\n",
    "# Does a cell have a non-null value\n",
    "df.notna()\n",
    "\n",
    "# Get all columns with null values\n",
    "df.isna().any()\n",
    "\n",
    "# Get all rows with null values\n",
    "df.isna().any(axis=1)\n",
    "\n",
    "# Filter rows with null values\n",
    "df.loc[df.isna().any(axis=1)]\n",
    "\n",
    "# Drop null values (row axis)\n",
    "df.dropna()\n",
    "\n",
    "# Drop all columns with null values\n",
    "df.dropna(axis=1)"
   ]
  },
  {
   "cell_type": "markdown",
   "metadata": {},
   "source": [
    "## 5. Missing Data By Column\n",
    "Steps:\n",
    "1. Use Descriptive Statistics to examine data\n",
    "2. Identify missing values\n",
    "3. Understand why the data is missing\n",
    "4. Decide to impute or drop values\n",
    "5. Document your approach"
   ]
  },
  {
   "cell_type": "markdown",
   "metadata": {},
   "source": [
    "\n",
    "### Broker Title"
   ]
  },
  {
   "cell_type": "code",
   "execution_count": 119,
   "metadata": {},
   "outputs": [
    {
     "name": "stdout",
     "output_type": "stream",
     "text": [
      "62.72% of data is missing\n"
     ]
    }
   ],
   "source": [
    "df[\"BROKERTITLE\"].head(20)\n",
    "\n",
    "# Figure out how many missing values\n",
    "df[\"BROKERTITLE\"].isna().sum()\n",
    "\n",
    "# Determine percentage of missing values\n",
    "print(str(round(df[\"BROKERTITLE\"].isna().sum() / df.shape[0] * 100, 2)) + \"% of data is missing\")\n",
    "\n",
    "# Drop column\n",
    "df = df.drop(columns=\"BROKERTITLE\")"
   ]
  },
  {
   "cell_type": "markdown",
   "metadata": {},
   "source": [
    "#### Conclusion"
   ]
  },
  {
   "cell_type": "code",
   "execution_count": null,
   "metadata": {},
   "outputs": [],
   "source": []
  },
  {
   "cell_type": "markdown",
   "metadata": {},
   "source": [
    "# Homework"
   ]
  },
  {
   "cell_type": "markdown",
   "metadata": {},
   "source": [
    "## Question 1"
   ]
  },
  {
   "cell_type": "code",
   "execution_count": 120,
   "metadata": {},
   "outputs": [
    {
     "name": "stdout",
     "output_type": "stream",
     "text": [
      "55.66% of data is missing\n"
     ]
    }
   ],
   "source": [
    "df[\"ADMINISTRATIVE_AREA_LEVEL_2\"].head(18)\n",
    "df.value_counts()\n",
    "\n",
    "# Find percentage of values missing\n",
    "print(str(round(df[\"ADMINISTRATIVE_AREA_LEVEL_2\"].isna().sum() / df.shape[0] * 100, 2)) + \"% of data is missing\") # Output: \"55.66% of data is missing\"\n",
    "\n",
    "# Drop Column\n",
    "df = df.drop(columns=\"ADMINISTRATIVE_AREA_LEVEL_2\")"
   ]
  },
  {
   "cell_type": "markdown",
   "metadata": {},
   "source": [
    "### Conclusion:\n",
    "\n",
    "I would drop the last column. There is over 50% of the values missing (so it wouldn't make sense to drop the rows), and I do not know what an Administrative Area (Level 2) is, so it would not make sense to try and fill them in.\n",
    "\n",
    "## Question 2"
   ]
  },
  {
   "cell_type": "code",
   "execution_count": 129,
   "metadata": {},
   "outputs": [
    {
     "data": {
      "text/plain": [
       "LOCALITY\n",
       "New York           2468\n",
       "New York County     966\n",
       "Queens County       555\n",
       "Kings County        462\n",
       "Bronx County        179\n",
       "Richmond County      58\n",
       "United States        34\n",
       "Brooklyn              6\n",
       "Queens                6\n",
       "The Bronx             4\n",
       "Flatbush              1\n",
       "Name: count, dtype: int64"
      ]
     },
     "execution_count": 129,
     "metadata": {},
     "output_type": "execute_result"
    }
   ],
   "source": [
    "df[\"LOCALITY\"].isna().sum() # 24 N/A values\n",
    "\n",
    "df.loc[df[\"LOCALITY\"].notna()][\"LOCALITY\"].unique() # \"-\" and \"Na\" should probably be considered as N/A\n",
    "\n",
    "df[\"LOCALITY\"] = df[\"LOCALITY\"].map(lambda x: None if x in [\"-\", \"Na\"] else x)\n",
    "\n",
    "df[\"LOCALITY\"].isna().sum() # 76 N/A values\n",
    "\n",
    "df[\"LOCALITY\"].value_counts()\n"
   ]
  },
  {
   "cell_type": "markdown",
   "metadata": {},
   "source": [
    "### Conclusion\n",
    "\n",
    "I would either replace all of the N/A values with \"New York\", which is a group which would most likely contain every location which the house could be in, since it is the entire new york state, or just drop the columns since they are less than 10% of the data set.\n",
    "\n",
    "## Question 3"
   ]
  },
  {
   "cell_type": "code",
   "execution_count": 161,
   "metadata": {},
   "outputs": [
    {
     "name": "stdout",
     "output_type": "stream",
     "text": [
      "1.640706126687435% of data is missing\n"
     ]
    }
   ],
   "source": [
    "df[\"PRICE\"].value_counts() # 79 rows have a value of 0\n",
    "\n",
    "print(str(df[\"PRICE\"].loc[lambda x: x == 0].count() / df.shape[0] * 100) + \"% of data is missing\") # Around 1.6% of data is missing"
   ]
  },
  {
   "cell_type": "markdown",
   "metadata": {},
   "source": [
    "### Conclusion:\n",
    "\n",
    "I would just drop the houses with no price, or a price of 0, because the quantity of houses with no price is just 1.6% of the overall dataset, and it would be very difficult to find the prices of the house.\n",
    "\n",
    "If I had to fill in the price of the houses with a value, instead of just dropping the rows, I would fill them in with the median. This would have less impact on the average then just leaving them at 0, or setting them to the mode, affecting the data set less."
   ]
  }
 ],
 "metadata": {
  "kernelspec": {
   "display_name": ".venv",
   "language": "python",
   "name": "python3"
  },
  "language_info": {
   "codemirror_mode": {
    "name": "ipython",
    "version": 3
   },
   "file_extension": ".py",
   "mimetype": "text/x-python",
   "name": "python",
   "nbconvert_exporter": "python",
   "pygments_lexer": "ipython3",
   "version": "3.11.6"
  }
 },
 "nbformat": 4,
 "nbformat_minor": 2
}
