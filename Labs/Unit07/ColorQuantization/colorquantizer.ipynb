{
 "cells": [
  {
   "cell_type": "markdown",
   "metadata": {},
   "source": [
    "# K-Means Color Quantization\n",
    "Reduces the number of distinct colors in an image."
   ]
  },
  {
   "cell_type": "markdown",
   "metadata": {},
   "source": [
    "## 1. Imports and Data Loading"
   ]
  },
  {
   "cell_type": "code",
   "execution_count": null,
   "metadata": {},
   "outputs": [],
   "source": [
    "import numpy as np\n",
    "import matplotlib.pyplot as plt\n",
    "import matplotlib.image as mpimg\n",
    "from sklearn.cluster import KMeans"
   ]
  },
  {
   "cell_type": "code",
   "execution_count": null,
   "metadata": {},
   "outputs": [],
   "source": [
    "# Constants\n",
    "FILEPATH = \"data/basils.jpeg\""
   ]
  },
  {
   "cell_type": "code",
   "execution_count": null,
   "metadata": {},
   "outputs": [],
   "source": [
    "# Load the image as a 2D List of [R, G, B] values\n",
    "img = mpimg.imread(FILEPATH)\n",
    "img_size = img.shape"
   ]
  },
  {
   "cell_type": "markdown",
   "metadata": {},
   "source": [
    "## 2. Useful Functions"
   ]
  },
  {
   "cell_type": "code",
   "execution_count": null,
   "metadata": {},
   "outputs": [],
   "source": [
    "def save_image(img, filepath):\n",
    "    \"\"\"\n",
    "    Saves the provided image to the file specified by filepath\n",
    "    :param img: 2D List of [R, G, B] values that represent the image\n",
    "    :param filepath: Location to save the file\n",
    "    \"\"\"\n",
    "    mpimg.imsave(filepath, img)\n",
    "\n",
    "def convert_to_1D(img):\n",
    "    \"\"\"\n",
    "    Converts a 2D List of [R,G,B] values into a 1D List of [R,G,B] values\n",
    "    :param img: 2D List of [R,G,B] values that represent an image\n",
    "    :return: 1D List of [R,G,B] values that represent an image\n",
    "    \"\"\"\n",
    "    return img.reshape(img_size[0] * img_size[1], img_size[2])\n",
    "\n",
    "def convert_to_2D(img):\n",
    "    \"\"\"\n",
    "    Converts a 1D List of pixels where each pixel is represented by [R,G,B] into\n",
    "    a 2D List of dimensions height x width where each entry is a [R,G,B] pixel\n",
    "    :param img: 1D List of [R,G,B] values for each pixel\n",
    "    :return: 2D list of dimensions height x width where each entry is an [R,G,B] pixel\n",
    "    \"\"\"\n",
    "    img = np.clip(img.astype('uint8'), 0, 255)\n",
    "    img = img.reshape(img_size[0], img_size[1], img_size[2])\n",
    "    return img\n",
    "\n",
    "def plot_image_colors(img):\n",
    "    \"\"\"\n",
    "    Plots the colors in an image on a 3D scatter plot\n",
    "    :param img: A 2D List of pixels where each pixel is represented by [R,G,B]\n",
    "    \"\"\"\n",
    "    img = convert_to_1D(img)\n",
    "    fig = plt.figure()\n",
    "    ax = fig.add_subplot(111, projection='3d')\n",
    "\n",
    "    ax.set_xlabel(\"Red\")\n",
    "    ax.set_ylabel(\"Green\")\n",
    "    ax.set_zlabel(\"Blue\")\n",
    "\n",
    "    ax.scatter(img[:, 0], img[:, 1], img[:, 2], c=img / 255.0)\n",
    "    plt.show()\n",
    "\n",
    "def plot_image_comparisons(original, compressed):\n",
    "    \"\"\"\n",
    "    Plots the original and compressed image on the same figure\n",
    "    :param original: 2D List of [R,G,B] values representing the original image\n",
    "    :param compressed: 2D List of [R,G,B] values representing the compressed image\n",
    "    \"\"\"\n",
    "    fig, ax = plt.subplots(1, 2)\n",
    "\n",
    "    # Plot the original image\n",
    "    ax[0].imshow(original)\n",
    "    ax[0].set_title('Original Image')\n",
    "\n",
    "    # Plot the compressed image\n",
    "    ax[1].imshow(compressed)\n",
    "    ax[1].set_title('Compressed Image')\n",
    "\n",
    "    # Turn the axes off and show the figure\n",
    "    for ax in fig.axes:\n",
    "        ax.axis('off')\n",
    "    plt.tight_layout()\n",
    "    plt.show()"
   ]
  },
  {
   "cell_type": "markdown",
   "metadata": {},
   "source": [
    "## 3. Understanding the Original Data"
   ]
  },
  {
   "cell_type": "code",
   "execution_count": null,
   "metadata": {},
   "outputs": [],
   "source": [
    "plt.imshow(img)"
   ]
  },
  {
   "cell_type": "code",
   "execution_count": null,
   "metadata": {},
   "outputs": [],
   "source": [
    "plot_image_colors(img)"
   ]
  },
  {
   "cell_type": "markdown",
   "metadata": {},
   "source": [
    "## 4. Quantization\n",
    "Use K-Means Clustering to perform color quantization on the image"
   ]
  },
  {
   "cell_type": "code",
   "execution_count": null,
   "metadata": {},
   "outputs": [],
   "source": [
    "# TODO: Quantize the colors in the image\n",
    "# Try to create the image with only 16 colors\n",
    "quant = None"
   ]
  },
  {
   "cell_type": "code",
   "execution_count": null,
   "metadata": {},
   "outputs": [],
   "source": [
    "# TODO: Display the compressed image"
   ]
  },
  {
   "cell_type": "code",
   "execution_count": null,
   "metadata": {},
   "outputs": [],
   "source": [
    "# TODO: Plot the new colors"
   ]
  },
  {
   "cell_type": "code",
   "execution_count": null,
   "metadata": {},
   "outputs": [],
   "source": [
    "# TODO: Plot the image comparisons"
   ]
  }
 ],
 "metadata": {
  "kernelspec": {
   "display_name": ".venv",
   "language": "python",
   "name": "python3"
  },
  "language_info": {
   "codemirror_mode": {
    "name": "ipython",
    "version": 3
   },
   "file_extension": ".py",
   "mimetype": "text/x-python",
   "name": "python",
   "nbconvert_exporter": "python",
   "pygments_lexer": "ipython3",
   "version": "3.11.6"
  }
 },
 "nbformat": 4,
 "nbformat_minor": 2
}
