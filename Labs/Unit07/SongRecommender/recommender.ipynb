{
 "cells": [
  {
   "cell_type": "markdown",
   "metadata": {},
   "source": [
    "# Song Recommendation using KMeans Clustering\n",
    "An example of how we find clusters in data using K-Means\n",
    "\n",
    "As defined by Spotify:\n",
    "\n",
    "acousticness: A confidence measure from 0.0 to 1.0 of whether the track is acoustic. 1.0 represents high confidence the track is acoustic.\n",
    "\n",
    "danceability: Danceability describes how suitable a track is for dancing based on a combination of musical elements including tempo, rhythm stability, beat strength, and overall regularity. A value of 0.0 is least danceable and 1.0 is most danceable.\n",
    "\n",
    "speechiness: Speechiness detects the presence of spoken words in a track. The more exclusively speech-like the recording (e.g. talk show, audio book, poetry), the closer to 1.0 the attribute value. Values above 0.66 describe tracks that are probably made entirely of spoken words. Values between 0.33 and 0.66 describe tracks that may contain both music and speech, either in sections or layered, including such cases as rap music. Values below 0.33 most likely represent music and other non-speech-like tracks."
   ]
  },
  {
   "cell_type": "markdown",
   "metadata": {},
   "source": [
    "## 1. Library Imports and Data Loading"
   ]
  },
  {
   "cell_type": "code",
   "execution_count": 3,
   "metadata": {},
   "outputs": [],
   "source": [
    "import pandas as pd\n",
    "import seaborn as sns\n",
    "import matplotlib.pyplot as plt\n",
    "from sklearn.cluster import KMeans\n",
    "from sklearn.preprocessing import MinMaxScaler\n",
    "from sklearn.metrics import silhouette_score"
   ]
  },
  {
   "cell_type": "code",
   "execution_count": 4,
   "metadata": {},
   "outputs": [],
   "source": [
    "df = pd.read_csv(\"data/songs.csv\")"
   ]
  },
  {
   "cell_type": "markdown",
   "metadata": {},
   "source": [
    "## 2. Understanding the Data"
   ]
  },
  {
   "cell_type": "code",
   "execution_count": 5,
   "metadata": {},
   "outputs": [
    {
     "name": "stdout",
     "output_type": "stream",
     "text": [
      "<class 'pandas.core.frame.DataFrame'>\n",
      "RangeIndex: 2000 entries, 0 to 1999\n",
      "Data columns (total 5 columns):\n",
      " #   Column        Non-Null Count  Dtype  \n",
      "---  ------        --------------  -----  \n",
      " 0   artist        2000 non-null   object \n",
      " 1   song          2000 non-null   object \n",
      " 2   acousticness  2000 non-null   float64\n",
      " 3   speechiness   2000 non-null   float64\n",
      " 4   danceability  2000 non-null   float64\n",
      "dtypes: float64(3), object(2)\n",
      "memory usage: 78.3+ KB\n"
     ]
    },
    {
     "data": {
      "text/html": [
       "<div>\n",
       "<style scoped>\n",
       "    .dataframe tbody tr th:only-of-type {\n",
       "        vertical-align: middle;\n",
       "    }\n",
       "\n",
       "    .dataframe tbody tr th {\n",
       "        vertical-align: top;\n",
       "    }\n",
       "\n",
       "    .dataframe thead th {\n",
       "        text-align: right;\n",
       "    }\n",
       "</style>\n",
       "<table border=\"1\" class=\"dataframe\">\n",
       "  <thead>\n",
       "    <tr style=\"text-align: right;\">\n",
       "      <th></th>\n",
       "      <th>artist</th>\n",
       "      <th>song</th>\n",
       "      <th>acousticness</th>\n",
       "      <th>speechiness</th>\n",
       "      <th>danceability</th>\n",
       "    </tr>\n",
       "  </thead>\n",
       "  <tbody>\n",
       "    <tr>\n",
       "      <th>0</th>\n",
       "      <td>Britney Spears</td>\n",
       "      <td>Oops!...I Did It Again</td>\n",
       "      <td>0.3000</td>\n",
       "      <td>0.0437</td>\n",
       "      <td>0.751</td>\n",
       "    </tr>\n",
       "    <tr>\n",
       "      <th>1</th>\n",
       "      <td>blink-182</td>\n",
       "      <td>All The Small Things</td>\n",
       "      <td>0.0103</td>\n",
       "      <td>0.0488</td>\n",
       "      <td>0.434</td>\n",
       "    </tr>\n",
       "    <tr>\n",
       "      <th>2</th>\n",
       "      <td>Faith Hill</td>\n",
       "      <td>Breathe</td>\n",
       "      <td>0.1730</td>\n",
       "      <td>0.0290</td>\n",
       "      <td>0.529</td>\n",
       "    </tr>\n",
       "    <tr>\n",
       "      <th>3</th>\n",
       "      <td>Bon Jovi</td>\n",
       "      <td>It's My Life</td>\n",
       "      <td>0.0263</td>\n",
       "      <td>0.0466</td>\n",
       "      <td>0.551</td>\n",
       "    </tr>\n",
       "    <tr>\n",
       "      <th>4</th>\n",
       "      <td>*NSYNC</td>\n",
       "      <td>Bye Bye Bye</td>\n",
       "      <td>0.0408</td>\n",
       "      <td>0.0516</td>\n",
       "      <td>0.614</td>\n",
       "    </tr>\n",
       "  </tbody>\n",
       "</table>\n",
       "</div>"
      ],
      "text/plain": [
       "           artist                    song  acousticness  speechiness  \\\n",
       "0  Britney Spears  Oops!...I Did It Again        0.3000       0.0437   \n",
       "1       blink-182    All The Small Things        0.0103       0.0488   \n",
       "2      Faith Hill                 Breathe        0.1730       0.0290   \n",
       "3        Bon Jovi            It's My Life        0.0263       0.0466   \n",
       "4          *NSYNC             Bye Bye Bye        0.0408       0.0516   \n",
       "\n",
       "   danceability  \n",
       "0         0.751  \n",
       "1         0.434  \n",
       "2         0.529  \n",
       "3         0.551  \n",
       "4         0.614  "
      ]
     },
     "execution_count": 5,
     "metadata": {},
     "output_type": "execute_result"
    }
   ],
   "source": [
    "df.info()\n",
    "df.head()"
   ]
  },
  {
   "cell_type": "markdown",
   "metadata": {},
   "source": [
    "## 3. Data Processing"
   ]
  },
  {
   "cell_type": "code",
   "execution_count": 6,
   "metadata": {},
   "outputs": [],
   "source": [
    "cols = [\"acousticness\", \"speechiness\", \"danceability\"]\n",
    "\n",
    "scaler = MinMaxScaler()\n",
    "scaler = scaler.fit(df[cols])\n",
    "df_scaled = pd.DataFrame(scaler.transform(df[cols]), columns = cols)"
   ]
  },
  {
   "cell_type": "markdown",
   "metadata": {},
   "source": [
    "## 4. Hyperparameter Tuning"
   ]
  },
  {
   "cell_type": "code",
   "execution_count": 7,
   "metadata": {},
   "outputs": [
    {
     "name": "stderr",
     "output_type": "stream",
     "text": [
      "/home/user/ATCS-2023/Labs/Unit07/SongRecommender/.venv/lib/python3.11/site-packages/joblib/externals/loky/backend/context.py:136: UserWarning: Could not find the number of physical cores for the following reason:\n",
      "[Errno 2] No such file or directory: 'lscpu'\n",
      "Returning the number of logical cores instead. You can silence this warning by setting LOKY_MAX_CPU_COUNT to the number of cores you want to use.\n",
      "  warnings.warn(\n",
      "  File \"/home/user/ATCS-2023/Labs/Unit07/SongRecommender/.venv/lib/python3.11/site-packages/joblib/externals/loky/backend/context.py\", line 250, in _count_physical_cores\n",
      "    cpu_info = subprocess.run(\n",
      "               ^^^^^^^^^^^^^^^\n",
      "  File \"/nix/store/yvhwsfbh4bc99vfvwpaa70m4yng4pvpz-python3-3.11.8/lib/python3.11/subprocess.py\", line 548, in run\n",
      "    with Popen(*popenargs, **kwargs) as process:\n",
      "         ^^^^^^^^^^^^^^^^^^^^^^^^^^^\n",
      "  File \"/nix/store/yvhwsfbh4bc99vfvwpaa70m4yng4pvpz-python3-3.11.8/lib/python3.11/subprocess.py\", line 1026, in __init__\n",
      "    self._execute_child(args, executable, preexec_fn, close_fds,\n",
      "  File \"/nix/store/yvhwsfbh4bc99vfvwpaa70m4yng4pvpz-python3-3.11.8/lib/python3.11/subprocess.py\", line 1953, in _execute_child\n",
      "    raise child_exception_type(errno_num, err_msg, err_filename)\n",
      "/home/user/ATCS-2023/Labs/Unit07/SongRecommender/.venv/lib/python3.11/site-packages/threadpoolctl.py:1195: RuntimeWarning: libc not found. The ctypes module in Python 3.11 is maybe too old for this OS.\n",
      "  warnings.warn(\n"
     ]
    },
    {
     "data": {
      "image/png": "[encoded data removed]",
      "text/plain": [
       "<Figure size 640x480 with 1 Axes>"
      ]
     },
     "metadata": {},
     "output_type": "display_data"
    }
   ],
   "source": [
    "inertias = []\n",
    "for k in range (1,16):\n",
    "    model = KMeans(n_clusters=k, random_state=5)\n",
    "    model.fit(df_scaled)\n",
    "    inertias.append(model.inertia_)\n",
    "\n",
    "# Plot the inertias to find the Elbow\n",
    "plt.plot(range(1, 16), inertias, marker=\"o\")\n",
    "plt.xlabel(\"Values of K\")\n",
    "plt.ylabel(\"Inertia\")\n",
    "plt.title(\"The Elbow Method using Inertia\")\n",
    "plt.show()"
   ]
  },
  {
   "cell_type": "markdown",
   "metadata": {},
   "source": [
    "## 5. Build our Model"
   ]
  },
  {
   "cell_type": "code",
   "execution_count": 8,
   "metadata": {},
   "outputs": [],
   "source": [
    "# Construct model w/ 6 clusters (no significant change in intertia after that)\n",
    "model = KMeans(n_clusters=6, random_state=5)\n",
    "model = model.fit(df_scaled)"
   ]
  },
  {
   "cell_type": "markdown",
   "metadata": {},
   "source": [
    "## 6. Viewing Results"
   ]
  },
  {
   "cell_type": "code",
   "execution_count": 9,
   "metadata": {},
   "outputs": [
    {
     "data": {
      "text/html": [
       "<div>\n",
       "<style scoped>\n",
       "    .dataframe tbody tr th:only-of-type {\n",
       "        vertical-align: middle;\n",
       "    }\n",
       "\n",
       "    .dataframe tbody tr th {\n",
       "        vertical-align: top;\n",
       "    }\n",
       "\n",
       "    .dataframe thead th {\n",
       "        text-align: right;\n",
       "    }\n",
       "</style>\n",
       "<table border=\"1\" class=\"dataframe\">\n",
       "  <thead>\n",
       "    <tr style=\"text-align: right;\">\n",
       "      <th></th>\n",
       "      <th>artist</th>\n",
       "      <th>song</th>\n",
       "      <th>acousticness</th>\n",
       "      <th>speechiness</th>\n",
       "      <th>danceability</th>\n",
       "      <th>label</th>\n",
       "    </tr>\n",
       "  </thead>\n",
       "  <tbody>\n",
       "    <tr>\n",
       "      <th>0</th>\n",
       "      <td>Britney Spears</td>\n",
       "      <td>Oops!...I Did It Again</td>\n",
       "      <td>0.3000</td>\n",
       "      <td>0.0437</td>\n",
       "      <td>0.751</td>\n",
       "      <td>2</td>\n",
       "    </tr>\n",
       "    <tr>\n",
       "      <th>1</th>\n",
       "      <td>blink-182</td>\n",
       "      <td>All The Small Things</td>\n",
       "      <td>0.0103</td>\n",
       "      <td>0.0488</td>\n",
       "      <td>0.434</td>\n",
       "      <td>4</td>\n",
       "    </tr>\n",
       "    <tr>\n",
       "      <th>2</th>\n",
       "      <td>Faith Hill</td>\n",
       "      <td>Breathe</td>\n",
       "      <td>0.1730</td>\n",
       "      <td>0.0290</td>\n",
       "      <td>0.529</td>\n",
       "      <td>4</td>\n",
       "    </tr>\n",
       "    <tr>\n",
       "      <th>3</th>\n",
       "      <td>Bon Jovi</td>\n",
       "      <td>It's My Life</td>\n",
       "      <td>0.0263</td>\n",
       "      <td>0.0466</td>\n",
       "      <td>0.551</td>\n",
       "      <td>4</td>\n",
       "    </tr>\n",
       "    <tr>\n",
       "      <th>4</th>\n",
       "      <td>*NSYNC</td>\n",
       "      <td>Bye Bye Bye</td>\n",
       "      <td>0.0408</td>\n",
       "      <td>0.0516</td>\n",
       "      <td>0.614</td>\n",
       "      <td>4</td>\n",
       "    </tr>\n",
       "  </tbody>\n",
       "</table>\n",
       "</div>"
      ],
      "text/plain": [
       "           artist                    song  acousticness  speechiness  \\\n",
       "0  Britney Spears  Oops!...I Did It Again        0.3000       0.0437   \n",
       "1       blink-182    All The Small Things        0.0103       0.0488   \n",
       "2      Faith Hill                 Breathe        0.1730       0.0290   \n",
       "3        Bon Jovi            It's My Life        0.0263       0.0466   \n",
       "4          *NSYNC             Bye Bye Bye        0.0408       0.0516   \n",
       "\n",
       "   danceability  label  \n",
       "0         0.751      2  \n",
       "1         0.434      4  \n",
       "2         0.529      4  \n",
       "3         0.551      4  \n",
       "4         0.614      4  "
      ]
     },
     "execution_count": 9,
     "metadata": {},
     "output_type": "execute_result"
    }
   ],
   "source": [
    "model.labels_\n",
    "model.inertia_\n",
    "model.cluster_centers_\n",
    "df[\"label\"] = model.labels_\n",
    "df.head()"
   ]
  },
  {
   "cell_type": "markdown",
   "metadata": {},
   "source": [
    "## 7. Evaluation"
   ]
  },
  {
   "cell_type": "code",
   "execution_count": 10,
   "metadata": {},
   "outputs": [
    {
     "data": {
      "text/plain": [
       "0.3401136466376936"
      ]
     },
     "execution_count": 10,
     "metadata": {},
     "output_type": "execute_result"
    }
   ],
   "source": [
    "silhouette_score(df_scaled, model.labels_)"
   ]
  },
  {
   "cell_type": "markdown",
   "metadata": {},
   "source": [
    "## 8. Song Recommendation"
   ]
  },
  {
   "cell_type": "code",
   "execution_count": 13,
   "metadata": {},
   "outputs": [
    {
     "data": {
      "text/html": [
       "<div>\n",
       "<style scoped>\n",
       "    .dataframe tbody tr th:only-of-type {\n",
       "        vertical-align: middle;\n",
       "    }\n",
       "\n",
       "    .dataframe tbody tr th {\n",
       "        vertical-align: top;\n",
       "    }\n",
       "\n",
       "    .dataframe thead th {\n",
       "        text-align: right;\n",
       "    }\n",
       "</style>\n",
       "<table border=\"1\" class=\"dataframe\">\n",
       "  <thead>\n",
       "    <tr style=\"text-align: right;\">\n",
       "      <th></th>\n",
       "      <th>artist</th>\n",
       "      <th>song</th>\n",
       "      <th>acousticness</th>\n",
       "      <th>speechiness</th>\n",
       "      <th>danceability</th>\n",
       "      <th>label</th>\n",
       "    </tr>\n",
       "  </thead>\n",
       "  <tbody>\n",
       "    <tr>\n",
       "      <th>1</th>\n",
       "      <td>blink-182</td>\n",
       "      <td>All The Small Things</td>\n",
       "      <td>0.0103</td>\n",
       "      <td>0.0488</td>\n",
       "      <td>0.434</td>\n",
       "      <td>4</td>\n",
       "    </tr>\n",
       "    <tr>\n",
       "      <th>2</th>\n",
       "      <td>Faith Hill</td>\n",
       "      <td>Breathe</td>\n",
       "      <td>0.1730</td>\n",
       "      <td>0.0290</td>\n",
       "      <td>0.529</td>\n",
       "      <td>4</td>\n",
       "    </tr>\n",
       "    <tr>\n",
       "      <th>3</th>\n",
       "      <td>Bon Jovi</td>\n",
       "      <td>It's My Life</td>\n",
       "      <td>0.0263</td>\n",
       "      <td>0.0466</td>\n",
       "      <td>0.551</td>\n",
       "      <td>4</td>\n",
       "    </tr>\n",
       "    <tr>\n",
       "      <th>4</th>\n",
       "      <td>*NSYNC</td>\n",
       "      <td>Bye Bye Bye</td>\n",
       "      <td>0.0408</td>\n",
       "      <td>0.0516</td>\n",
       "      <td>0.614</td>\n",
       "      <td>4</td>\n",
       "    </tr>\n",
       "    <tr>\n",
       "      <th>10</th>\n",
       "      <td>Gigi D'Agostino</td>\n",
       "      <td>L'Amour Toujours</td>\n",
       "      <td>0.0328</td>\n",
       "      <td>0.0292</td>\n",
       "      <td>0.617</td>\n",
       "      <td>4</td>\n",
       "    </tr>\n",
       "    <tr>\n",
       "      <th>...</th>\n",
       "      <td>...</td>\n",
       "      <td>...</td>\n",
       "      <td>...</td>\n",
       "      <td>...</td>\n",
       "      <td>...</td>\n",
       "      <td>...</td>\n",
       "    </tr>\n",
       "    <tr>\n",
       "      <th>1981</th>\n",
       "      <td>Sam Feldt</td>\n",
       "      <td>Post Malone (feat. RANI)</td>\n",
       "      <td>0.0771</td>\n",
       "      <td>0.1220</td>\n",
       "      <td>0.590</td>\n",
       "      <td>4</td>\n",
       "    </tr>\n",
       "    <tr>\n",
       "      <th>1988</th>\n",
       "      <td>Panic! At The Disco</td>\n",
       "      <td>High Hopes</td>\n",
       "      <td>0.1930</td>\n",
       "      <td>0.0618</td>\n",
       "      <td>0.579</td>\n",
       "      <td>4</td>\n",
       "    </tr>\n",
       "    <tr>\n",
       "      <th>1990</th>\n",
       "      <td>Sam Smith</td>\n",
       "      <td>How Do You Sleep?</td>\n",
       "      <td>0.1530</td>\n",
       "      <td>0.0925</td>\n",
       "      <td>0.477</td>\n",
       "      <td>4</td>\n",
       "    </tr>\n",
       "    <tr>\n",
       "      <th>1992</th>\n",
       "      <td>Normani</td>\n",
       "      <td>Motivation</td>\n",
       "      <td>0.0192</td>\n",
       "      <td>0.0984</td>\n",
       "      <td>0.599</td>\n",
       "      <td>4</td>\n",
       "    </tr>\n",
       "    <tr>\n",
       "      <th>1996</th>\n",
       "      <td>Taylor Swift</td>\n",
       "      <td>Cruel Summer</td>\n",
       "      <td>0.1170</td>\n",
       "      <td>0.1570</td>\n",
       "      <td>0.552</td>\n",
       "      <td>4</td>\n",
       "    </tr>\n",
       "  </tbody>\n",
       "</table>\n",
       "<p>504 rows × 6 columns</p>\n",
       "</div>"
      ],
      "text/plain": [
       "                   artist                      song  acousticness  \\\n",
       "1               blink-182      All The Small Things        0.0103   \n",
       "2              Faith Hill                   Breathe        0.1730   \n",
       "3                Bon Jovi              It's My Life        0.0263   \n",
       "4                  *NSYNC               Bye Bye Bye        0.0408   \n",
       "10        Gigi D'Agostino          L'Amour Toujours        0.0328   \n",
       "...                   ...                       ...           ...   \n",
       "1981            Sam Feldt  Post Malone (feat. RANI)        0.0771   \n",
       "1988  Panic! At The Disco                High Hopes        0.1930   \n",
       "1990            Sam Smith         How Do You Sleep?        0.1530   \n",
       "1992              Normani                Motivation        0.0192   \n",
       "1996         Taylor Swift              Cruel Summer        0.1170   \n",
       "\n",
       "      speechiness  danceability  label  \n",
       "1          0.0488         0.434      4  \n",
       "2          0.0290         0.529      4  \n",
       "3          0.0466         0.551      4  \n",
       "4          0.0516         0.614      4  \n",
       "10         0.0292         0.617      4  \n",
       "...           ...           ...    ...  \n",
       "1981       0.1220         0.590      4  \n",
       "1988       0.0618         0.579      4  \n",
       "1990       0.0925         0.477      4  \n",
       "1992       0.0984         0.599      4  \n",
       "1996       0.1570         0.552      4  \n",
       "\n",
       "[504 rows x 6 columns]"
      ]
     },
     "execution_count": 13,
     "metadata": {},
     "output_type": "execute_result"
    }
   ],
   "source": [
    "selected_song = \"Bye Bye Bye\"\n",
    "song = df[df[\"song\"] == selected_song]\n",
    "cluster = song[\"label\"].values[0]\n",
    "recommendations = df[df[\"label\"] == cluster]\n",
    "recommendations.head(recommendations.shape[0])"
   ]
  }
 ],
 "metadata": {
  "kernelspec": {
   "display_name": ".venv",
   "language": "python",
   "name": "python3"
  },
  "language_info": {
   "codemirror_mode": {
    "name": "ipython",
    "version": 3
   },
   "file_extension": ".py",
   "mimetype": "text/x-python",
   "name": "python",
   "nbconvert_exporter": "python",
   "pygments_lexer": "ipython3",
   "version": "3.11.8"
  }
 },
 "nbformat": 4,
 "nbformat_minor": 2
}
